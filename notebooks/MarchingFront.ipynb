{
 "cells": [
  {
   "cell_type": "markdown",
   "metadata": {},
   "source": [
    "# Marching Front algorithm\n",
    "\n",
    "The module `marching_front.py` defines a function `select_by_flooding` that takes as input an array `Ztopo` containing topography elevations on a rectangular grid and returns an array `pt_chosen` of the same shape with values 1 (if chosen) or 0 (if not chosen).  Other inputs specify the criteria used to choose points, as described below.\n",
    "\n",
    "The basic idea is that chosen points satisfy certain elevation requirements along with connectivity to the coast.  This was originally developed to identify points in a topography DEM where the topography value $Z$ is below MHW, but that should be initialized as dry land because they are in regions protected by dikes or levies.  In this situation, the marching algorithm is used by initializing points well offshore (e.g. with $Z < -5$ meters) as *wet* and other points to *unset*.  Then the front between *wet/unset* points is advanced by marking neighboring points as *dry* if $Z\\geq0$ or as *wet* if $Z<0$. This is repeated iteratively for each new front until there are no more *wet* points with *unset* neighbors.  At this point any points still *unset* are entirely buffered by *dry* points and must lie behind dikes, so these are also set to *dry*.  \n",
    "\n",
    "Other applications are also described below along with some examples."
   ]
  },
  {
   "cell_type": "markdown",
   "metadata": {},
   "source": [
    "# Contents\n",
    "\n",
    "- [Function arguments](#args)\n",
    "- [Output array](#output)\n",
    "- [The `mask` argument](#mask)\n",
    "- [The `previous_pts_chosen` argument](#prev)\n",
    "\n",
    "- [Examples](#examples)\n",
    "  - [Finding points below a given elevation](#find-Zlow)\n",
    "  - [Choose points only near shore](#find-nearshore)\n",
    "  - [Creating an AMR flag region](#amr-flag)\n",
    "  - [Determining dry areas below MHW](#dry)"
   ]
  },
  {
   "cell_type": "markdown",
   "metadata": {},
   "source": [
    "<div id=\"args\"></div>\n",
    "\n",
    "## Function arguments\n",
    "\n",
    "The main function in the `marching_front.py` module is `select_by_flooding`.\n",
    "\n",
    "The function is defined by:\n",
    "```\n",
    "def select_by_flooding(Ztopo, mask=None, prev_pts_chosen=None,\n",
    "                       Z1=-5., Z2=0., max_iters=None, verbose=False):\n",
    "```\n",
    "\n",
    "If `Z1 <= Z2` then points where `Ztopo <= Z1` are first selected and \n",
    "then a marching algorithm is used to select neighboring points that \n",
    "satisfy `Ztopo <= Z2`. \n",
    "\n",
    "Think of chosen points as \"wet\" and unchosen points as \"dry\" \n",
    "and new points are flooded if at least one neighbor is \"wet\" and \n",
    "the topography is low enough. Starting from deep water (e.g. `Z1 = -5`)\n",
    "this allows flooding up to MHW (`Z2 = 0`) without going past dikes that\n",
    "protect dry land with lower elevation.\n",
    "\n",
    "However, this can also be called with `Z1 > Z2`, in which case points\n",
    "where `Ztopo >= Z1` are first selected and then the marching algorithm is \n",
    "used to select neighboring points that satisfy `Ztopo >= Z2`.\n",
    "This is useful to select offshore points where the water is shallow,\n",
    "(and that are connected to the shore by a path of shallow points) \n",
    "e.g. to identify points on the continental shelf to set up a \n",
    "flag region for refinement.\n",
    "\n",
    "If `max_iters=None` then iterate to convergence.\n",
    "Otherwise, at most `max_iters` iterations are taken, so setting\n",
    "this to a small value only selects points within this many grid\n",
    "points of where `Ztopo <= Z1`, useful for buffering or selecting a few\n",
    "onshore points along the coast regardless of elevation.\n",
    "\n",
    "If `prev_pts_chosen` is None we are starting from scratch, otherwise\n",
    "we possibly add additional chosen points to an existing array.\n",
    "Points where `prev_pts_chosen[i,j]==1` won't change but those `==0` may be\n",
    "changed to 1 based on the new criteria.\n",
    "\n",
    "If `mask==None` or `mask==False` then the entire array is subject to \n",
    "selection.  If `mask` is an array with `mask[i,j]==True` at some points,\n",
    "then either:\n",
    "- these masked points are marked as not selected (`pts_chosen[i,j]=0`)\n",
    "  if `prev_pts_chosen==None`, or\n",
    "- these masked points are not touched if `prev_pts_chosen` is an\n",
    "  array (so previous 0/1 values are preserved).\n",
    "  \n",
    "These arguments are described in more detail below with examples of how they might be used."
   ]
  },
  {
   "cell_type": "markdown",
   "metadata": {},
   "source": [
    "<div id=\"output\"></div>\n",
    "\n",
    "## output array\n",
    "\n",
    "The function returns an array `pt_chosen` with the same shape as `Ztopo` and has the value 1 at points chosen and 0 at points not chosen.\n",
    "\n",
    "### creating a masked array\n",
    "\n",
    "This array can be used to define a masked array from `Ztopo` that masks out the points not chosen via:\n",
    "\n",
    "```\n",
    "from numpy import ma # masked array module\n",
    "Zmasked = ma.masked_array(Ztopo, mask=logical_not(pt_chosen))\n",
    "```\n",
    "\n",
    "This could be used to plot only the points chosen using `pcolormesh`, for example.\n",
    "\n",
    "### topofile mask for initializing dry points\n",
    "\n",
    "The array `pt_chosen` can be used to create a file that is read in by GeoClaw to identify points where `Ztopo` is below MHW but where there is dry land because of protection by dikes or levies.  This is done by defining a `geoclaw.topotools.Topography` object and setting its `Z` attribute based on `pt_chosen`, and then writing this as a topofile with `topo_type==3`.  Then in `setrun.py` this file can be specified as a mask that is read in and used when initializing grid cells.  There are some subtleties in how this is done, described in more detail in [ForceDryMask.ipynb](ForceDryMask.ipynb).\n",
    "\n",
    "### fgmax points\n",
    "\n",
    "The chosen points might be used as fgmax points, as described below.\n",
    "\n",
    "### flag regions\n",
    "\n",
    "The output array could also be used to define an AMR flag region as a ruled rectangle, using the function `region_tools.ruledrectangle_covering_selected_points` described in [RuledRectangles.ipynb](RuledRectangles.ipynb).  This would give a minimal ruled rectangle covering all the chosen points.  An example is given [below](#amr-flag).\n"
   ]
  },
  {
   "cell_type": "markdown",
   "metadata": {},
   "source": [
    "<div id=\"mask\"></div>\n",
    "\n",
    "## The `mask` argument\n",
    "\n",
    "`mask` can be `False` or `None`, or else must be an array of the same shape as `Ztopo`.\n",
    "\n",
    "The `Ztopo` array input must be a rectangular array, but sometimes we want to select points covering only a subset of these points, e.g. when defining fgmax points along some stretch of coastline.  In this case `mask` can be used to mask out values we do not want to select. Set `mask[i,j] = True` at points that should *not* be chosen.\n",
    "\n",
    "To mask out points that lie outside some ruled rectangle that has been defined as `rr`, you can use the `rr.mask_outside` function to define the mask.  See [RuledRectangles.ipynb](RuledRectangles.ipynb)."
   ]
  },
  {
   "cell_type": "markdown",
   "metadata": {},
   "source": [
    "<div id=\"prev\"></div>\n",
    "\n",
    "## The `previous_pts_chosen` argument\n",
    "\n",
    "This argument is useful if you want to apply a sequence of different criteria to choose points.  For example, suppose you first want to choose all grid points within 5 points of the coast (as can be done using `max_iters`) and then supplement this will all grid points below a specified elevation that are farther inland from the coast. \n",
    "\n",
    "Examples are given below, also of how the `mask` array works in conjunction with `previous_pts_chosen`."
   ]
  },
  {
   "cell_type": "markdown",
   "metadata": {},
   "source": [
    "<div id=\"examples\"></div>\n",
    "\n",
    "## Examples\n",
    "\n",
    "First import some needed modules and set up color maps."
   ]
  },
  {
   "cell_type": "code",
   "execution_count": null,
   "metadata": {
    "collapsed": false
   },
   "outputs": [],
   "source": [
    "%matplotlib inline"
   ]
  },
  {
   "cell_type": "code",
   "execution_count": null,
   "metadata": {
    "collapsed": false
   },
   "outputs": [],
   "source": [
    "from pylab import *\n",
    "import os,sys\n",
    "from numpy import ma # masked arrays\n",
    "from clawpack.visclaw import colormaps\n",
    "from clawpack.geoclaw import topotools"
   ]
  },
  {
   "cell_type": "code",
   "execution_count": null,
   "metadata": {
    "collapsed": false
   },
   "outputs": [],
   "source": [
    "sys.path.insert(0,'../new_python')"
   ]
  },
  {
   "cell_type": "code",
   "execution_count": null,
   "metadata": {
    "collapsed": false
   },
   "outputs": [],
   "source": [
    "import region_tools, marching_front"
   ]
  },
  {
   "cell_type": "code",
   "execution_count": null,
   "metadata": {
    "collapsed": false
   },
   "outputs": [],
   "source": [
    "zmin = -60.\n",
    "zmax = 40.\n",
    "\n",
    "land_cmap = colormaps.make_colormap({ 0.0:[0.1,0.4,0.0],\n",
    "                                     0.25:[0.0,1.0,0.0],\n",
    "                                      0.5:[0.8,1.0,0.5],\n",
    "                                      1.0:[0.8,0.5,0.2]})\n",
    "\n",
    "sea_cmap = colormaps.make_colormap({ 0.0:[0,0,1], 1.:[.8,.8,1]})\n",
    "\n",
    "cmap, norm = colormaps.add_colormaps((land_cmap, sea_cmap),\n",
    "                                     data_limits=(zmin,zmax),\n",
    "                                     data_break=0.)\n",
    "                                     \n",
    "sea_cmap_dry = colormaps.make_colormap({ 0.0:[1.0,0.7,0.7], 1.:[1.0,0.7,0.7]})\n",
    "cmap_dry, norm_dry = colormaps.add_colormaps((land_cmap, sea_cmap_dry),\n",
    "                                     data_limits=(zmin,zmax),\n",
    "                                     data_break=0.)"
   ]
  },
  {
   "cell_type": "markdown",
   "metadata": {},
   "source": [
    "## Sample topography from a 1/3 arcsecond DEM\n",
    "\n",
    "We consider a small region on the SW coast of Whidbey Island north of Maxwelton Beach as an example:"
   ]
  },
  {
   "cell_type": "code",
   "execution_count": null,
   "metadata": {},
   "outputs": [],
   "source": [
    "region1_png = imread('region1.png')\n",
    "extent = [-122.46, -122.38, 47.93, 47.96]\n",
    "\n",
    "figure(figsize=(12,6))\n",
    "imshow(region1_png, extent=extent)\n",
    "gca().set_aspect(1./cos(48*pi/180.))"
   ]
  },
  {
   "cell_type": "markdown",
   "metadata": {},
   "source": [
    "We read this small portion of the 1/3 arcsecond Puget Sound DEM, available from the NCEI thredds server:"
   ]
  },
  {
   "cell_type": "code",
   "execution_count": null,
   "metadata": {
    "collapsed": false
   },
   "outputs": [],
   "source": [
    "path = 'https://www.ngdc.noaa.gov/thredds/dodsC/regional/puget_sound_13_mhw_2014.nc'\n",
    "topo = topotools.read_netcdf(path, extent=extent)"
   ]
  },
  {
   "cell_type": "code",
   "execution_count": null,
   "metadata": {},
   "outputs": [],
   "source": [
    "figure(figsize=(12,6))\n",
    "pcolormesh(topo.X, topo.Y, topo.Z, cmap=cmap, norm=norm)\n",
    "colorbar(extend='both')\n",
    "gca().set_aspect(1./cos(48*pi/180.))"
   ]
  },
  {
   "cell_type": "markdown",
   "metadata": {},
   "source": [
    "This plot shows that there is a region with elevation below MHW (0 in the DEM) where the Google Earth image shows wetland that should not be initialized as a lake.  We will tackle this problem [below](#dry), but first we show how to choose only the DEM points that are close to the shore and/or below a given elevation."
   ]
  },
  {
   "cell_type": "markdown",
   "metadata": {},
   "source": [
    "<div id=\"find-Zlow\"></div>\n",
    "\n",
    "### Finding all points below a given elevation\n"
   ]
  },
  {
   "cell_type": "markdown",
   "metadata": {},
   "source": [
    "First we choose all points with elevation below 15 m and that are connected to the coast over this topography extent.  Note the latter requirement will eliminate the low lying area at the bottom of the figure above near longitude -122.4 (which is connected to the coast through Cultus Bay, but not by points in this extent)."
   ]
  },
  {
   "cell_type": "code",
   "execution_count": null,
   "metadata": {},
   "outputs": [],
   "source": [
    "pts_chosen = marching_front.select_by_flooding(topo.Z, Z1=0, Z2=15., max_iters=None) "
   ]
  },
  {
   "cell_type": "code",
   "execution_count": null,
   "metadata": {
    "collapsed": false
   },
   "outputs": [],
   "source": [
    "Zmasked = ma.masked_array(topo.Z, logical_not(pts_chosen))"
   ]
  },
  {
   "cell_type": "code",
   "execution_count": null,
   "metadata": {},
   "outputs": [],
   "source": [
    "figure(figsize=(12,6))\n",
    "pcolormesh(topo.X, topo.Y, Zmasked, cmap=cmap, norm=norm)\n",
    "colorbar(extend='both')\n",
    "gca().set_aspect(1./cos(48*pi/180.))"
   ]
  },
  {
   "cell_type": "markdown",
   "metadata": {},
   "source": [
    "### Create a buffer zone along shore"
   ]
  },
  {
   "cell_type": "markdown",
   "metadata": {},
   "source": [
    "To select more points along the shore where the topography is steep, we could have first used `max_iters`.  \n",
    "\n",
    "To illustrate this, we start again and fist use `max_iters = 20` so that at least 20 grid points are selected near the coast, also setting `Z2 = 1e6` (a huge value) so that the arbitrarily high regions will be included if they are within 20 points of the coast:"
   ]
  },
  {
   "cell_type": "code",
   "execution_count": null,
   "metadata": {},
   "outputs": [],
   "source": [
    "pts_chosen = marching_front.select_by_flooding(topo.Z, Z1=0, Z2=1e6, max_iters=20) "
   ]
  },
  {
   "cell_type": "markdown",
   "metadata": {},
   "source": [
    "Plot what we have so far:"
   ]
  },
  {
   "cell_type": "code",
   "execution_count": null,
   "metadata": {},
   "outputs": [],
   "source": [
    "Zmasked = ma.masked_array(topo.Z, logical_not(pts_chosen))\n",
    "\n",
    "figure(figsize=(12,6))\n",
    "pcolormesh(topo.X, topo.Y, Zmasked, cmap=cmap, norm=norm)\n",
    "colorbar(extend='both')\n",
    "gca().set_aspect(1./cos(48*pi/180.))"
   ]
  },
  {
   "cell_type": "markdown",
   "metadata": {},
   "source": [
    "Then we augment the points already chosen with any points below 15 m and connected to the coast:"
   ]
  },
  {
   "cell_type": "code",
   "execution_count": null,
   "metadata": {},
   "outputs": [],
   "source": [
    "pts_chosen = marching_front.select_by_flooding(topo.Z, Z1=0, Z2=15., \n",
    "                                               prev_pts_chosen=pts_chosen,\n",
    "                                               max_iters=None) "
   ]
  },
  {
   "cell_type": "code",
   "execution_count": null,
   "metadata": {},
   "outputs": [],
   "source": [
    "Zmasked = ma.masked_array(topo.Z, logical_not(pts_chosen))\n",
    "\n",
    "figure(figsize=(12,6))\n",
    "pcolormesh(topo.X, topo.Y, Zmasked, cmap=cmap, norm=norm)\n",
    "colorbar(extend='both')\n",
    "gca().set_aspect(1./cos(48*pi/180.))"
   ]
  },
  {
   "cell_type": "markdown",
   "metadata": {},
   "source": [
    "<div id=\"find-nearshore\"></div>\n",
    "\n",
    "### Choose points only near shore\n",
    "\n",
    "We can set `Z1 = 0` and `Z2 = -15` to select points that have elevation *greater than* -15 m and are connected to the coast:"
   ]
  },
  {
   "cell_type": "code",
   "execution_count": null,
   "metadata": {},
   "outputs": [],
   "source": [
    "pts_chosen_shallow = marching_front.select_by_flooding(topo.Z, Z1=0, Z2=-15., max_iters=None) "
   ]
  },
  {
   "cell_type": "code",
   "execution_count": null,
   "metadata": {
    "collapsed": false
   },
   "outputs": [],
   "source": [
    "Zshallow = ma.masked_array(topo.Z, logical_not(pts_chosen_shallow))"
   ]
  },
  {
   "cell_type": "code",
   "execution_count": null,
   "metadata": {},
   "outputs": [],
   "source": [
    "figure(figsize=(12,6))\n",
    "pcolormesh(topo.X, topo.Y, Zshallow, cmap=cmap, norm=norm)\n",
    "colorbar(extend='both')\n",
    "gca().set_aspect(1./cos(48*pi/180.))"
   ]
  },
  {
   "cell_type": "markdown",
   "metadata": {},
   "source": [
    "Note that this chooses *all* onshore points in addition to offshore points with elevation greater than -15 m.  \n",
    "\n",
    "We can take the intersection of this set of points with the onshore points previously chosen to get only the points that lie near the coast:"
   ]
  },
  {
   "cell_type": "code",
   "execution_count": null,
   "metadata": {
    "collapsed": false
   },
   "outputs": [],
   "source": [
    "pts_chosen_nearshore = logical_and(pts_chosen, pts_chosen_shallow)\n",
    "Znearshore = ma.masked_array(topo.Z, logical_not(pts_chosen_nearshore))"
   ]
  },
  {
   "cell_type": "code",
   "execution_count": null,
   "metadata": {},
   "outputs": [],
   "source": [
    "figure(figsize=(12,6))\n",
    "pcolormesh(topo.X, topo.Y, Znearshore, cmap=cmap, norm=norm)\n",
    "colorbar(extend='both')\n",
    "gca().set_aspect(1./cos(48*pi/180.))"
   ]
  },
  {
   "cell_type": "markdown",
   "metadata": {},
   "source": [
    "<div id='amr-flag'></div>\n",
    "\n",
    "## Creating an AMR flag region\n",
    "\n",
    "Once a set of points has been selected, it can be used to define a ruled rectangle that might be used as an adaptive mesh refinement flag region, for example. See [RuledRectangles.ipynb](RuledRectangles.ipynb) and [FlagRegions.ipynb](FlagRegions.ipynb).\n",
    "\n",
    "You might want to try both `ixy = 'x'` and `ixy = 'y'` in creating the ruled rectangle to see which one covers fewer non-selected points. In this case `ixy = 'x'` is better:"
   ]
  },
  {
   "cell_type": "code",
   "execution_count": null,
   "metadata": {},
   "outputs": [],
   "source": [
    "figure(figsize=(12,5))\n",
    "subplot(121)\n",
    "\n",
    "rr = region_tools.ruledrectangle_covering_selected_points(topo.X, topo.Y, pts_chosen_nearshore, \n",
    "                                                          ixy='x', method=0,\n",
    "                                                          padding=0, verbose=True)\n",
    "xv,yv = rr.vertices()\n",
    "pcolormesh(topo.X, topo.Y, Znearshore, cmap=cmap, norm=norm)\n",
    "axis([-122.47, -122.40, 47.925, 47.965])\n",
    "gca().set_aspect(1./cos(48*pi/180.))\n",
    "plot(xv, yv, 'r')\n",
    "title(\"With ixy = 'x'\")\n",
    "\n",
    "subplot(122)\n",
    "rr = region_tools.ruledrectangle_covering_selected_points(topo.X, topo.Y, pts_chosen_nearshore, \n",
    "                                                          ixy='y', method=0,\n",
    "                                                          padding=0, verbose=True)\n",
    "xv,yv = rr.vertices()\n",
    "pcolormesh(topo.X, topo.Y, Znearshore, cmap=cmap, norm=norm)\n",
    "axis([-122.47, -122.40, 47.925, 47.965])\n",
    "gca().set_aspect(1./cos(48*pi/180.))\n",
    "plot(xv, yv, 'r')\n",
    "title(\"With ixy = 'y'\")"
   ]
  },
  {
   "cell_type": "markdown",
   "metadata": {},
   "source": [
    "<div id='dry'></div>\n",
    "\n",
    "## Determining dry areas below MHW\n",
    "\n",
    "Note the blue region in the above plot that is inland from the coast and behind a green barrier.  Examining Google Earth shows that this is wetland area that probably should not be initialized as a lake.  We can identify this by using the marching front algorithm to start at `Z1 = -5` m and fill in up to `Z2 = 0` (MHW).  "
   ]
  },
  {
   "cell_type": "code",
   "execution_count": null,
   "metadata": {},
   "outputs": [],
   "source": [
    "wet_points = marching_front.select_by_flooding(topo.Z, Z1=-5., Z2=0., max_iters=None)"
   ]
  },
  {
   "cell_type": "code",
   "execution_count": null,
   "metadata": {
    "collapsed": false
   },
   "outputs": [],
   "source": [
    "Zdry = ma.masked_array(topo.Z, wet_points)"
   ]
  },
  {
   "cell_type": "code",
   "execution_count": null,
   "metadata": {},
   "outputs": [],
   "source": [
    "figure(figsize=(12,6))\n",
    "pcolormesh(topo.X, topo.Y, Zdry, cmap=cmap, norm=norm)\n",
    "colorbar(extend='both')\n",
    "gca().set_aspect(1./cos(48*pi/180.))\n",
    "title('Dry land')"
   ]
  },
  {
   "cell_type": "markdown",
   "metadata": {},
   "source": [
    "Now the blue region above is properly identified as being dry land."
   ]
  },
  {
   "cell_type": "markdown",
   "metadata": {
    "collapsed": false
   },
   "source": [
    "The notebook [ForceDry.ipynb](ForceDry.ipynb) contains more discussion of this example and shows how to create an array to provide to GeoClaw to indicate that this region should be initialized as dry in spite of being below MHW."
   ]
  },
  {
   "cell_type": "markdown",
   "metadata": {
    "collapsed": false
   },
   "source": [
    "[Back to Index.ipynb](Index.ipynb)"
   ]
  },
  {
   "cell_type": "code",
   "execution_count": null,
   "metadata": {
    "collapsed": false
   },
   "outputs": [],
   "source": []
  }
 ],
 "metadata": {
  "kernelspec": {
   "display_name": "Python 3",
   "language": "python",
   "name": "python3"
  },
  "language_info": {
   "codemirror_mode": {
    "name": "ipython",
    "version": 3
   },
   "file_extension": ".py",
   "mimetype": "text/x-python",
   "name": "python",
   "nbconvert_exporter": "python",
   "pygments_lexer": "ipython3",
   "version": "3.6.2"
  }
 },
 "nbformat": 4,
 "nbformat_minor": 2
}
