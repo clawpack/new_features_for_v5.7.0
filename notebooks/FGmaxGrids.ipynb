{
 "cells": [
  {
   "cell_type": "markdown",
   "metadata": {},
   "source": [
    "# FGmax Grids - specifying points and plotting results"
   ]
  },
  {
   "cell_type": "markdown",
   "metadata": {},
   "source": [
    "Past versions of GeoClaw have allowed specifying a set of fgmax points in one of the following ways:\n",
    "\n",
    "- `point_style == 0:`  Arbitrary list of points, \n",
    "- `point_style == 1:` Equally spaced points along a 1-dimensional transect,\n",
    "- `point_style == 2:` Equally spaced points on a 2-dimensional rectangular grid,\n",
    "- `point_style == 3:` Quasi-uniform points on a quadrilateral specified by 4 corners.\n",
    "\n",
    "There is now an additional way to specify points:\n",
    "\n",
    "- `point_style == 4:` Selected points from an equally spaced rectangular grid.\n",
    "\n",
    "The input can be a \"topofile\" with `topo_type == 3` in GeoClaw format (ASCII raster format, with a header indicating the lower left corner and spacing, followed by `Z` values at each grid point.  In this case the `Z` values are not topography DEM values, however, but are either 1 for points to be used as fgmax points or 0 for points not to be used.\n",
    "\n",
    "For simulations containing millions of fgmax points, this format has many advantages over simply providing a list of all the points (`point_style == 0`): the input file is much smaller, and by having data on a known grid it is easy to determine which fgmax points lie within a given grid patch.  (For large simulations there can be thousands of grid patches and searching through the list of all fgmax points for each patch is extremely slow.)\n",
    "\n",
    "The fgmax results can also be recorded in (masked) arrays of the same shape as the input array, facilitating plotting of results using `pcolormesh` or `contourf`, for example, whereas if the fgmax points are merely a list then plotting the results as a 2d object can be much more difficult."
   ]
  },
  {
   "cell_type": "markdown",
   "metadata": {},
   "source": [
    "[TODO: Add examples.]"
   ]
  },
  {
   "cell_type": "markdown",
   "metadata": {},
   "source": [
    "[Back to Index.ipynb](Index.ipynb) or go on to the next notebook [ForceDry.ipynb](ForceDry.ipynb)."
   ]
  },
  {
   "cell_type": "code",
   "execution_count": null,
   "metadata": {},
   "outputs": [],
   "source": []
  }
 ],
 "metadata": {
  "kernelspec": {
   "display_name": "Python 3",
   "language": "python",
   "name": "python3"
  },
  "language_info": {
   "codemirror_mode": {
    "name": "ipython",
    "version": 3
   },
   "file_extension": ".py",
   "mimetype": "text/x-python",
   "name": "python",
   "nbconvert_exporter": "python",
   "pygments_lexer": "ipython3",
   "version": "3.6.2"
  }
 },
 "nbformat": 4,
 "nbformat_minor": 2
}
