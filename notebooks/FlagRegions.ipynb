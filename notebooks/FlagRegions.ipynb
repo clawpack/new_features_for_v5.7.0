{
 "cells": [
  {
   "cell_type": "markdown",
   "metadata": {},
   "source": [
    "# Flag regions\n",
    "\n",
    "AMRClaw and GeoClaw version 5.6.1 (and earlier) allow specifying rectangular refinement regions (see [www.clawpack.org/regions.html](http://www.clawpack.org/regions.html)) in `setrun.py` in the form of a list that is appended to `rundata.regiondata.regions`:\n",
    "\n",
    "```\n",
    "rundata.regiondata.regions.append([minlevel,maxlevel,t1,t2,x1,x2,y1,y2])\n",
    "```\n",
    "This is a region that is active from time `t1` to `t2` over the spatial extent `[x1,x2,y1,y2]`.\n",
    "\n",
    "The modified version of AMRClaw/GeoClaw supports a new approach to specifying regions that I propose calling `flagregions`.  This will also support simple rectangles and so should ultimately replace `regions` in both AMRClaw and GeoClaw.  The name `flagregions` is more descriptive of the function served by these regions and may cause less confusion with other uses of the word \"region\" in various applications.\n",
    "\n",
    "**NOTE:** The class `FlagRegion` discussed below is currently implemented in a separate module `data_FlagRegions.py` but should eventually be moved into `clawpack.amrclaw.data`.\n",
    "\n",
    "The new way of specifying a flag region in `setrun.py` is to first define an object `flagregion` of class `FlagRegion`, set various attributes of this object (including `minlevel`, `maxlevel`, `t1`, `t2`, and a spatial extent), and then append this object to `rundata.flagregiondata.flagregions`.  Here is an example:\n",
    "\n",
    "```\n",
    "flagregion = data_FlagRegions.FlagRegion(num_dim=2)\n",
    "flagregion.name = 'Region_AdmiraltyInlet'\n",
    "flagregion.minlevel = 4\n",
    "flagregion.maxlevel = 5\n",
    "flagregion.t1 = 3600.\n",
    "flagregion.t2 = 1e9\n",
    "flagregion.spatial_region_type = 2  # Ruled Rectangle\n",
    "flagregion.spatial_region_file = os.path.abspath('RuledRectangle_AdmiraltyInlet.data')\n",
    "rundata.flagregiondata.flagregions.append(flagregion)\n",
    "```\n",
    "\n",
    "Note that the spatial extent in this case is specified by a path to a file that describes a Ruled Rectangle, in this case one that covers Admiralty Inlet as defined in one of the examples of  [RuledRectangles.ipynb](RuledRectangles.ipynb).\n",
    "\n",
    "Simple rectangles (like the old \"regions\") can be specified via:\n",
    "\n",
    "```\n",
    "flagregion.spatial_region_type = 1  # Rectangle\n",
    "flagregion.spatial_region = [x1,x2,y1,y2]  # the extent\n",
    "```\n",
    "\n",
    "For the time being, one can also specify regions the old way and can specify both \"regions\" and \"flagregions\" in the same `setrun.py`.  The former are written out to `regions.data` as always and the latter are written out to `flagregions.data`, and both sets of regions are read in by code in `region_module.f90` and used in `flagregions2.f90`.  The new versions of these files are in this repository in `new_fortran_amrclaw`.  \n"
   ]
  },
  {
   "cell_type": "markdown",
   "metadata": {},
   "source": [
    "## Possible future enhancements\n",
    "\n",
    "### Other attributes\n",
    "\n",
    "In the future we may implement the ability to specify different tolerances or even different flagging methods in each region.  If so, other attributes such as `flagregion.tolerance` or `flagregion.method` could be easily added."
   ]
  },
  {
   "cell_type": "code",
   "execution_count": null,
   "metadata": {
    "collapsed": false
   },
   "outputs": [],
   "source": [
    "from IPython.display import Image"
   ]
  },
  {
   "cell_type": "markdown",
   "metadata": {},
   "source": [
    "## Example\n",
    "\n",
    "The code in `examples/amrclaw_flagregions` gives an example based on the standard amrclaw advecting square example (see [plots in the gallery](http://www.clawpack.org/gallery/_static/amrclaw/examples/advection_2d_square/_plots/_PlotIndex.html).\n",
    "\n",
    "This `setrun.py` file contains the following:\n",
    "\n",
    "```\n",
    "\n",
    "    # ---------------\n",
    "    # NEW flagregions\n",
    "    # ---------------\n",
    "\n",
    "    # Eventually add this to amrclaw.data but for now in data_FlagRegions\n",
    "    rundata.add_data(data_FlagRegions.FlagRegionData(num_dim=2), 'flagregiondata')\n",
    "    flagregions = rundata.flagregiondata.flagregions  # initialized to []\n",
    "\n",
    "    # now append as many flagregions as desired to this list:\n",
    "\n",
    "    # The entire domain restricted to level 1 for illustration:\n",
    "    # Note that this is a rectangle specified in the new way:\n",
    "    # (other regions below will force/allow more refinement)\n",
    "    flagregion = data_FlagRegions.FlagRegion(num_dim=2)\n",
    "    flagregion.name = 'Region_domain'\n",
    "    flagregion.minlevel = 1\n",
    "    flagregion.maxlevel = 1\n",
    "    flagregion.t1 = 0.\n",
    "    flagregion.t2 = 1e9\n",
    "    flagregion.spatial_region_type = 1  # Rectangle\n",
    "    flagregion.spatial_region = [0.,1.,0.,1.]  # = [x1,x2,y1,y2]\n",
    "    flagregions.append(flagregion)\n",
    "\n",
    "    # A more general ruled rectangle:\n",
    "    flagregion = data_FlagRegions.FlagRegion(num_dim=2)\n",
    "    flagregion.name = 'Region_triangle'\n",
    "    flagregion.minlevel = 2\n",
    "    flagregion.maxlevel = 3\n",
    "    flagregion.t1 = 0.\n",
    "    flagregion.t2 = 1e9\n",
    "    flagregion.spatial_region_type = 2  # Ruled Rectangle\n",
    "    flagregion.spatial_region_file = \\\n",
    "            os.path.abspath('RuledRectangle_Triangle.data')\n",
    "    flagregions.append(flagregion)\n",
    "\n",
    "    # code to make RuledRectangle_Triangle.data:\n",
    "    rr = region_tools.RuledRectangle()\n",
    "    rr.method = 1 # piecewiselinear edges between s values\n",
    "    rr.ixy = 'x'  # so s refers to x, lower & upper are limits in y\n",
    "    rr.s = np.array([0.1, 0.8])\n",
    "    rr.lower = np.array([0.2, 0.8])\n",
    "    rr.upper = np.array([0.8, 0.8])\n",
    "    rr.write('RuledRectangle_Triangle.data')\n",
    "```\n",
    "\n",
    "In this example, two flagregions are defined. The first is the full domain specified as a rectangle, with `maxlevel = 1` so that refinement is not allowed except within the second flagregion, which is a triangle defined as a ruled rectangle.  In this triangle, refinement to level 2 is forced and to level 3 is allowed.  \n",
    "\n",
    "One additional change was to set\n",
    "```\n",
    "    amrdata.clustering_cutoff = 0.95\n",
    "```\n",
    "so that grids cannot extent too far out of the flagregion, for clarity in this simple example.\n",
    "\n",
    "The initial data is a scalar field with value 1 inside a square and 0 outside, as shown in this contour plot:  "
   ]
  },
  {
   "cell_type": "code",
   "execution_count": null,
   "metadata": {
    "scrolled": false
   },
   "outputs": [],
   "source": [
    "Image('../examples/amrclaw_flagregions/contours_frame00.png', width=400)"
   ]
  },
  {
   "cell_type": "markdown",
   "metadata": {},
   "source": [
    "The figure below shows the grid cells on levels 1 and 2 and only the patches on level 3, which is refined by an additional factor of 2.  The blue triangle is the flagregion."
   ]
  },
  {
   "cell_type": "code",
   "execution_count": null,
   "metadata": {},
   "outputs": [],
   "source": [
    "Image('../examples/amrclaw_flagregions/grids_frame00.png', width=400)"
   ]
  },
  {
   "cell_type": "markdown",
   "metadata": {},
   "source": [
    "[Back to Index.ipynb](Index.ipynb)"
   ]
  },
  {
   "cell_type": "code",
   "execution_count": null,
   "metadata": {
    "collapsed": false
   },
   "outputs": [],
   "source": []
  }
 ],
 "metadata": {
  "kernelspec": {
   "display_name": "Python 3",
   "language": "python",
   "name": "python3"
  },
  "language_info": {
   "codemirror_mode": {
    "name": "ipython",
    "version": 3
   },
   "file_extension": ".py",
   "mimetype": "text/x-python",
   "name": "python",
   "nbconvert_exporter": "python",
   "pygments_lexer": "ipython3",
   "version": "3.6.2"
  }
 },
 "nbformat": 4,
 "nbformat_minor": 2
}
