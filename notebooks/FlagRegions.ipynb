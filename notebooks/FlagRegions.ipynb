{
 "cells": [
  {
   "cell_type": "markdown",
   "metadata": {},
   "source": [
    "# Flag regions\n",
    "\n",
    "AMRClaw and GeoClaw version 5.6.1 (and earlier) allow specifying rectangular refinement regions (see [www.clawpack.org/regions.html](http://www.clawpack.org/regions.html)) in `setrun.py` in the form of a list that is appended to `rundata.regiondata.regions`:\n",
    "\n",
    "```\n",
    "rundata.regiondata.regions.append([minlevel,maxlevel,t1,t2,x1,x2,y1,y2])\n",
    "```\n",
    "This is a region that is active from time `t1` to `t2` over the spatial extent `[x1,x2,y1,y2]`.\n",
    "\n",
    "The modified version of GeoClaw supports a new approach to specifying regions that I propose calling `flagregions`.  This will also support simple rectangles and so should ultimately replace `regions` in both AMRClaw and GeoClaw.  The name `flagregions` is more descriptive of the function served by these regions and may cause less confusion with other uses of the word \"region\" in various applications.\n",
    "\n",
    "**NOTE:** The class `FlagRegion` discussed below is currently implemented in a separate module `data_FlagRegions.py` but should eventually be moved to `clawpack.amrclaw.data`?\n",
    "\n",
    "The new way of specifying a flag region in `setrun.py` is to first define an object `flagregion` of class `FlagRegion`, set various attributes of this object (including `minlevel`, `maxlevel`, `t1`, `t2`, and a spatial extent), and then append this object to `rundata.flagregiondata.flagregions`.  Here is an example:\n",
    "\n",
    "```\n",
    "flagregion = data_FlagRegions.FlagRegion(num_dim=2)\n",
    "flagregion.name = 'Region_AdmiraltyInlet'\n",
    "flagregion.minlevel = 4\n",
    "flagregion.maxlevel = 5\n",
    "flagregion.t1 = 3600.\n",
    "flagregion.t2 = 1e9\n",
    "flagregion.spatial_region_file = os.path.abspath('RuledRectangle_AdmiraltyInlet.data')\n",
    "rundata.flagregiondata.flagregions.append(flagregion)\n",
    "```\n",
    "\n",
    "Note that the spatial extent in this case is specified by a path to a file that describes a Ruled Rectangle, in this case one that covers Admiralty Inlet as defined in one of the examples of  [RuledRectangles.ipynb](RuledRectangles.ipynb).\n",
    "\n",
    "So far this is the only way to define the spatial region, but note that a simple rectangle can be specified easily via, e.g.:\n",
    "\n",
    "```\n",
    "# Define and write a Ruled Rectangle corresponding to the \n",
    "# rectangle with extent [x1,x2,y1,y2]:\n",
    "from clawpack.amrclaw.region_tools import RuledRectangle\n",
    "rectangle1 = RuledRectangle(rect=[x1,x2,y1,y2])\n",
    "rectangle1.write('RuledRectangle1.data')\n",
    "\n",
    "# Use this RuledRectangle as the spatial extent in a flagregion:\n",
    "flagregion = data_FlagRegions.FlagRegion(num_dim=2)\n",
    "flagregion.name = 'Region_Rectangle1'\n",
    "# set minlevel, maxlevel, t1, t2\n",
    "flagregion.spatial_region_file = os.path.abspath('RuledRectangle1.data')\n",
    "rundata.flagregiondata.flagregions.append(flagregion)\n",
    "```\n",
    "\n",
    "After defining `rundata` in `setrun.py` this data is then written out to a new data file `flagregions.data`, which is read in by the GeoClaw Fortran code."
   ]
  },
  {
   "cell_type": "markdown",
   "metadata": {},
   "source": [
    "## Possible future enhancements\n",
    "\n",
    "### Other spatial regions\n",
    "\n",
    "Perhaps allow setting \n",
    "```\n",
    "flagregion.spatial_region = [x1,x2,y1,y2]\n",
    "```\n",
    "directly for a simple rectangle, and/or \n",
    "```\n",
    "flagregion.spatial_region = rr\n",
    "```\n",
    "where `rr` is an object of class `RuledRectangle`.  Note that this will require writing something different to `flagregions.data` and then reading it properly from the Fortran code, and has not yet been implemented.\n",
    "\n",
    "### Other attributes\n",
    "\n",
    "In the future we may implement the ability to specify different tolerances or even different flagging methods in each region.  If so, other attributes such as `flagregion.tolerance` or `flagregion.method` could be easily added."
   ]
  },
  {
   "cell_type": "markdown",
   "metadata": {},
   "source": [
    "[Back to Index.ipynb](Index.ipynb)"
   ]
  },
  {
   "cell_type": "code",
   "execution_count": null,
   "metadata": {
    "collapsed": false
   },
   "outputs": [],
   "source": []
  }
 ],
 "metadata": {
  "kernelspec": {
   "display_name": "Python 3",
   "language": "python",
   "name": "python3"
  },
  "language_info": {
   "codemirror_mode": {
    "name": "ipython",
    "version": 3
   },
   "file_extension": ".py",
   "mimetype": "text/x-python",
   "name": "python",
   "nbconvert_exporter": "python",
   "pygments_lexer": "ipython3",
   "version": "3.6.2"
  }
 },
 "nbformat": 4,
 "nbformat_minor": 2
}
