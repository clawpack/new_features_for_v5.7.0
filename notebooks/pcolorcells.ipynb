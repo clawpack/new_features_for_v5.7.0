{
 "cells": [
  {
   "cell_type": "markdown",
   "metadata": {},
   "source": [
    "# pcolorcells for plotting finite volume data\n",
    "\n",
    "The matplotlib `pcolormesh` function is often used to plot finite volumen data via `pcolormesh(X,Y,Z,...)`, with `X,Y` being arrays of cell centers with the same shape as `Z`. In this case, the last row and column of `Z` are ignored as explained in the [pcolor documentation](https://matplotlib.org/3.1.1/api/_as_gen/matplotlib.pyplot.pcolor.html). The values in `X,Y` are used as coordinates of cell edges rather than centers and so the data is also displaced from where it should be.\n",
    "\n",
    "When frames of output are plotted using `visclaw` this does not happen because the cell edge arrays are used instead, with dimension one greater in each direction than that of `Z`.\n",
    "\n",
    "However, in plotting topography using the `Topography.plot` function of GeoClaw, for example, this had not been done properly.  \n",
    "\n",
    "This notebook explains the issue and a new function `visclaw.plottools.pcolorcells` that converts cell centers to edges if necessary before plotting with `pcolormesh`.\n",
    "\n",
    "This is used in an improved version of `geoclaw.Topography.plot`.\n",
    "\n",
    "This notebook also illustrates new functions to carefully choose the `dpi` parameter and image size to make versions that display well in Google Earth, and to make kml files to display them.  These are added to the `kmltools` module."
   ]
  },
  {
   "cell_type": "markdown",
   "metadata": {},
   "source": [
    "## Contents\n",
    "\n",
    "- [The plottools.pcolorcells function](#pcolorcells)\n",
    "- [Plotting topography](#topoplot)\n",
    "- [Create a kml file with png to view](#kmlplot)"
   ]
  },
  {
   "cell_type": "code",
   "execution_count": null,
   "metadata": {},
   "outputs": [],
   "source": [
    "%matplotlib inline"
   ]
  },
  {
   "cell_type": "code",
   "execution_count": null,
   "metadata": {},
   "outputs": [],
   "source": [
    "from pylab import *\n",
    "import sys\n",
    "from importlib import reload\n",
    "from clawpack.visclaw import colormaps"
   ]
  },
  {
   "cell_type": "code",
   "execution_count": null,
   "metadata": {
    "collapsed": false
   },
   "outputs": [],
   "source": [
    "sys.path.insert(0,'../new_python')  # location of new python code for importing"
   ]
  },
  {
   "cell_type": "code",
   "execution_count": null,
   "metadata": {},
   "outputs": [],
   "source": [
    "import plottools, topotools, kmltools\n",
    "#reload(topotools) # for debugging"
   ]
  },
  {
   "cell_type": "code",
   "execution_count": null,
   "metadata": {},
   "outputs": [],
   "source": [
    "xcenter = linspace(0.5,3.5,4)\n",
    "ycenter = linspace(0.5,4.5,5)\n",
    "X,Y = meshgrid(xcenter,ycenter)\n",
    "Z = X+Y\n",
    "print('Z has shape ', Z.shape, 'X and Y have shape ', X.shape)\n",
    "\n",
    "figure()\n",
    "pcolor(X,Y,Z); colorbar()"
   ]
  },
  {
   "cell_type": "markdown",
   "metadata": {},
   "source": [
    "Note that only the lower 4x3 portion of `Z` is plotted above, with edges at the values set in `xcenter, ycenter`.\n",
    "\n",
    "Instead we want to compute the edges and use these in the `pcolormesh` command:"
   ]
  },
  {
   "cell_type": "code",
   "execution_count": null,
   "metadata": {},
   "outputs": [],
   "source": [
    "x = X[0,:]; y = Y[:,0]\n",
    "dx=x[1]-x[0]; dy=y[1]-y[0]\n",
    "xedge = np.arange(x[0]-0.5*dx, x[-1]+dx, dx)\n",
    "yedge = np.arange(y[0]-0.5*dy, y[-1]+dy, dy)\n",
    "\n",
    "pcolormesh(xedge,yedge,Z); colorbar()"
   ]
  },
  {
   "cell_type": "markdown",
   "metadata": {},
   "source": [
    "<div id='pcolorcells'></div>\n",
    "\n",
    "##  The `plottools.pcolorcells` function\n",
    "\n",
    "This function will be added to `visclaw.plottools` to allow passing in either cell centers or edges. You can also pass in any other `**kwargs` to be passed to `pcolormesh`."
   ]
  },
  {
   "cell_type": "code",
   "execution_count": null,
   "metadata": {},
   "outputs": [],
   "source": [
    "figure(figsize=(12,4))\n",
    "subplot(121)\n",
    "plottools.pcolorcells(xcenter, ycenter, Z);  colorbar()\n",
    "subplot(122)\n",
    "plottools.pcolorcells(xedge, yedge, Z);  colorbar()"
   ]
  },
  {
   "cell_type": "markdown",
   "metadata": {},
   "source": [
    "You can also pass in 2d arrays `X,Y` that are either centers or edges:"
   ]
  },
  {
   "cell_type": "code",
   "execution_count": null,
   "metadata": {},
   "outputs": [],
   "source": [
    "plottools.pcolorcells(X, Y, Z);  colorbar()"
   ]
  },
  {
   "cell_type": "markdown",
   "metadata": {},
   "source": [
    "If we reduce the size of `Z` then `X,Y` are properly interpreted as edges:"
   ]
  },
  {
   "cell_type": "code",
   "execution_count": null,
   "metadata": {},
   "outputs": [],
   "source": [
    "plottools.pcolorcells(X, Y, Z[:-1,:-1]);  colorbar()"
   ]
  },
  {
   "cell_type": "markdown",
   "metadata": {},
   "source": [
    "## Contour plots\n",
    "\n",
    "Note that contour plots assume the `X,Y` arrays are where pointwise values of `Z` are specified, so it is correct to use cell centers for this.  \n",
    "\n",
    "As an example, define `Zbowl` to be a paraboloid with minimum at `(2,2)`:"
   ]
  },
  {
   "cell_type": "code",
   "execution_count": null,
   "metadata": {},
   "outputs": [],
   "source": [
    "plottools.pcolorcells(X, Y, Z)\n",
    "\n",
    "Zbowl = (X-2)**2 + (Y-2)**2\n",
    "contour(X,Y,Zbowl,colors='w')"
   ]
  },
  {
   "cell_type": "markdown",
   "metadata": {},
   "source": [
    "<div id='topoplot'></div>\n",
    "\n",
    "## Plotting topography\n",
    "\n",
    "When you load a topofile in GeoClaw, the internal represenation has `topo.X` and `topo.Y` at the cell centers of the DEM grid, and DEM values should be interpreted as either cell averages over these cells (in principle this is how they are defined) or as pointwise values at the cell centers (this is how we use them in GeoClaw when computing `B` values for grid cells by cell averaging a piecewise bilinear function interpolating at the cell centers).  For more information see  [the documentation](http://www.clawpack.org/topo.html).\n",
    "\n",
    "The version of `clawpack.geoclaw.topotools` in Clawpack 5.6.0 uses `imshow` for plotting topography, unless the `Z` array is a `masked_array`, in which case it uses `pcolor` (which is slower than `imshow` and also slower than `pcolormesh`, which does work with masked arrays). Neither was done exactly properly in terms of plotting all cell values and properly aligning them.\n",
    "\n",
    "The new version uses `pcolorcells` in both cases."
   ]
  },
  {
   "cell_type": "code",
   "execution_count": null,
   "metadata": {},
   "outputs": [],
   "source": [
    "def topo_cmap(limits):\n",
    "    topo_extent = limits\n",
    "    data_break = 0.\n",
    "    land_cmap = colormaps.make_colormap({ 0.0:[0.1,0.4,0.0],\n",
    "                                         0.25:[0.0,1.0,0.0],\n",
    "                                          0.5:[0.8,1.0,0.5],\n",
    "                                          1.0:[0.8,0.5,0.2]})\n",
    "    sea_cmap = get_cmap('Blues_r')\n",
    "    if topo_extent[0] >= 0.0:\n",
    "        cmap = land_cmap\n",
    "        norm = colors.Normalize(vmin=0.0, vmax=topo_extent[1])\n",
    "    elif topo_extent[1] <= 0.0:\n",
    "        cmap = sea_cmap\n",
    "        norm = colors.Normalize(vmin=topo_extent[0], vmax=0.0)\n",
    "    else:\n",
    "        cmap, norm = colormaps.add_colormaps((land_cmap, sea_cmap), \n",
    "                                             data_limits=topo_extent,\n",
    "                                             data_break=data_break)\n",
    "    return cmap, norm"
   ]
  },
  {
   "cell_type": "markdown",
   "metadata": {},
   "source": [
    "### Sample data: \n",
    "\n",
    "A small set of 1-minute resolution etopo1 data covering part of Puget Sound around Seattle:"
   ]
  },
  {
   "cell_type": "code",
   "execution_count": null,
   "metadata": {},
   "outputs": [],
   "source": [
    "topo = topotools.read_netcdf('etopo1', extent=[-122.8,-122.3,47.5,47.8])"
   ]
  },
  {
   "cell_type": "code",
   "execution_count": null,
   "metadata": {
    "collapsed": false
   },
   "outputs": [],
   "source": [
    "cmap,norm = topo_cmap((topo.Z.min(), topo.Z.max()))"
   ]
  },
  {
   "cell_type": "markdown",
   "metadata": {},
   "source": [
    "Plot using new version of `topo.plot`, and add contour plot of shoreline and red dots at center of each grid cell (the values in `topo.X, topo.Y`)."
   ]
  },
  {
   "cell_type": "code",
   "execution_count": null,
   "metadata": {},
   "outputs": [],
   "source": [
    "topo.plot()\n",
    "contour(topo.X,topo.Y,topo.Z,[0],colors='r')\n",
    "plot(topo.X, topo.Y, 'r.', markersize=0.5);"
   ]
  },
  {
   "cell_type": "markdown",
   "metadata": {},
   "source": [
    "We can plot on top of a Google Earth image to check that things are lined up right:"
   ]
  },
  {
   "cell_type": "code",
   "execution_count": null,
   "metadata": {},
   "outputs": [],
   "source": [
    "# Expanded extent that include cells centered at the points in X,Y:\n",
    "x1 = topo.x[0] - topo.delta[0]/2.; x2 = topo.x[-1] + topo.delta[0]/2.\n",
    "y1 = topo.y[0] - topo.delta[1]/2.; y2 = topo.y[-1] + topo.delta[1]/2.\n",
    "extent2 = [x1,x2,y1,y2]\n",
    "    \n",
    "if 0:\n",
    "    # make a kml file to help grab the appropriate image from GE:\n",
    "    kmltools.box2kml(extent2, fname='region2.kml', name='region2', width=1)\n",
    "\n",
    "# load image for GE:\n",
    "region2_png = imread('region2.png') \n",
    "\n",
    "#figure(figsize=(12,8))\n",
    "imshow(region2_png, extent=extent2)\n",
    "gca().set_aspect(1./cos(48*pi/180.)) # fix aspect ratio"
   ]
  },
  {
   "cell_type": "markdown",
   "metadata": {},
   "source": [
    "Plot the data on top of this image:"
   ]
  },
  {
   "cell_type": "code",
   "execution_count": null,
   "metadata": {},
   "outputs": [],
   "source": [
    "figure(figsize=(12,10))\n",
    "imshow(region2_png, extent=extent2)\n",
    "gca().set_aspect(1./cos(48*pi/180.)) # fix aspect ratio\n",
    "\n",
    "plottools.pcolorcells(topo.X, topo.Y, topo.Z, cmap=cmap,norm=norm,alpha=0.3)\n",
    "contour(topo.X,topo.Y,topo.Z,[0],colors='r')\n",
    "plot(topo.X, topo.Y, 'r.', markersize=4);"
   ]
  },
  {
   "cell_type": "markdown",
   "metadata": {},
   "source": [
    "<div id='kmlplot'></div>\n",
    "\n",
    "## Create a kml file with png to view\n",
    "\n",
    "A new function `pcolorcells_for_kml` has been added to `clawpack.geoclaw.kmltools` to create a png file that is suitable for viewing on Google Earth.  The new function `png2kml` can then be used to create the kml file that can be opened to view it.\n",
    "\n",
    "The png image must be created carefully in order to get it lined up properly and also so that the interfaces between constant colors in grid cells are nice and sharp.  The approach taken in `pcolorcells_for_kml` is to:\n",
    "\n",
    " - Use the integer parameter `dpc` to determine how many \"dots per cell\" are desired,\n",
    " - Choose the image size and `dpi` (dots per inch) appropriately so there are an integer number of pixels in each grid cell,\n",
    " - Plot with no axes or margins so that only the cells are displayed.  Any margins would mess things up and result in a non-integer number of pixels in each cell.\n",
    " \n",
    "The function returns several values that are useful if you want to further augment the plot before creating the png file.  This is illustrated later below, but first we use the `png_filename` parameter to create the png file internally."
   ]
  },
  {
   "cell_type": "code",
   "execution_count": null,
   "metadata": {},
   "outputs": [],
   "source": [
    "fig, ax, png_extent, kml_dpi = \\\n",
    "    kmltools.pcolorcells_for_kml(topo.X, topo.Y, topo.Z, \n",
    "                                 png_filename='PStopo.png', dpc=10,verbose=True,\n",
    "                                 cmap=cmap,norm=norm, alpha=0.5)"
   ]
  },
  {
   "cell_type": "markdown",
   "metadata": {},
   "source": [
    "We can now create the kml file that displays this image.  Note that `extent` should be the full extent out to the edges of the grid cells."
   ]
  },
  {
   "cell_type": "code",
   "execution_count": null,
   "metadata": {},
   "outputs": [],
   "source": [
    "kmltools.png2kml(extent=extent2, png_files=['PStopo.png'],\n",
    "                 png_names=['Puget Sound'], \n",
    "                 name='PStopo',\n",
    "                 fname='PStopo.kml')"
   ]
  },
  {
   "cell_type": "markdown",
   "metadata": {},
   "source": [
    "### Augment a plot before saving the png file"
   ]
  },
  {
   "cell_type": "code",
   "execution_count": null,
   "metadata": {},
   "outputs": [],
   "source": [
    "fig, ax, png_extent, kml_dpi = \\\n",
    "    kmltools.pcolorcells_for_kml(topo.X, topo.Y, topo.Z, \n",
    "                                 png_filename=None, dpc=10,verbose=True,\n",
    "                                 cmap=cmap,norm=norm, alpha=0.5)\n",
    "ax.contour(topo.X, topo.Y, topo.Z, [0], colors='r')\n",
    "\n",
    "savefig('PStopo2.png', transparent=True, dpi=kml_dpi)"
   ]
  },
  {
   "cell_type": "markdown",
   "metadata": {},
   "source": [
    "Now make a new kml file, also illustrating that you can also specify a list of png files (and associated names) and they will all be displayed together, with a menu allowing you to turn each on or off.  Setting the parameter `radio_style=True` will give a version in which at most one of the png files can be displayed at a time."
   ]
  },
  {
   "cell_type": "code",
   "execution_count": null,
   "metadata": {},
   "outputs": [],
   "source": [
    "kmltools.png2kml(extent=extent2, png_files=['PStopo.png','PStopo2.png'],\n",
    "                 png_names=['Puget Sound', 'with shoreline'], \n",
    "                 name='PStopo',\n",
    "                 fname='PStopo.kml',\n",
    "                 radio_style=True)"
   ]
  },
  {
   "cell_type": "markdown",
   "metadata": {},
   "source": [
    "Here's a screenshot of the result:"
   ]
  },
  {
   "cell_type": "code",
   "execution_count": null,
   "metadata": {},
   "outputs": [],
   "source": [
    "figure(figsize=(12,10))\n",
    "PStopoGE = imread('PStopoGE.png')\n",
    "imshow(PStopoGE)\n",
    "axis('off');"
   ]
  },
  {
   "cell_type": "markdown",
   "metadata": {},
   "source": [
    "[Back to Index.ipynb](Index.ipynb) or go on to the next notebook, [RuledRectangles.ipynb](RuledRectangles.ipynb)."
   ]
  },
  {
   "cell_type": "code",
   "execution_count": null,
   "metadata": {},
   "outputs": [],
   "source": []
  }
 ],
 "metadata": {
  "kernelspec": {
   "display_name": "Python 3",
   "language": "python",
   "name": "python3"
  },
  "language_info": {
   "codemirror_mode": {
    "name": "ipython",
    "version": 3
   },
   "file_extension": ".py",
   "mimetype": "text/x-python",
   "name": "python",
   "nbconvert_exporter": "python",
   "pygments_lexer": "ipython3",
   "version": "3.6.2"
  }
 },
 "nbformat": 4,
 "nbformat_minor": 2
}
