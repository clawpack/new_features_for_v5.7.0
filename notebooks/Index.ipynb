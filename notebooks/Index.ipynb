{
 "cells": [
  {
   "cell_type": "markdown",
   "metadata": {},
   "source": [
    "# Index of notebooks describing new GeoClaw features\n",
    "\n",
    "- [NewFeatures.ipynb](NewFeatures.ipynb) - Overview of some new features, with a motivating example.\n",
    "- [pcolorcells.ipynb](pcolorcells.ipynb) - Version of `pcolormesh` that works better for finite volume grid cells, and application to `geoclaw.Topography.plot`.\n",
    "- [RuledRectangles.ipynb](RuledRectangles.ipynb) - Explanation of Ruled Rectangles, polygons for which it is easy to check inclusion of a point\n",
    "- [FlagRegions.ipynb](FlagRegions.ipynb) - A new way of specifying regions to guide AMR, e.g. as a Ruled Rectangle rather than a simple rectangle.\n",
    "- [SetEtaInit.ipynb](SetEtaInit.ipynb) - Specify a spatially-varying initial water elevation $\\eta = h + B$ rather than using the single value `sea_level` everywhere.  Sometimes necessary in regions where land is deformed by an earthquake and/or to initialize lakes at different elevations.\n",
    "- [MarchingFront.ipynb](MarchingFront.ipynb) - Tools to select points from a topography DEM that satisfy given constraints on elevation. Used to determine dry land behind dikes and to determine fgmax points or refinement regions close to the shore.\n",
    "- [FGmaxGrids.ipynb](FGmaxGrids.ipynb) - FGmax Grids - specifying points and plotting results\n",
    "- [ForceDry.ipynb](ForceDry.ipynb) - Force certain areas to be dry initially even if the topography DEM value is below 0."
   ]
  },
  {
   "cell_type": "markdown",
   "metadata": {},
   "source": [
    "## More examples\n",
    "\n",
    "- [MakeFlagregionsCoast.ipynb](MakeFlagregionsCoast.ipynb) - Make a ruled rectangle flagregion along the coast, using the marching front algorithm."
   ]
  },
  {
   "cell_type": "code",
   "execution_count": null,
   "metadata": {
    "collapsed": false
   },
   "outputs": [],
   "source": []
  }
 ],
 "metadata": {
  "kernelspec": {
   "display_name": "Python 3",
   "language": "python",
   "name": "python3"
  },
  "language_info": {
   "codemirror_mode": {
    "name": "ipython",
    "version": 3
   },
   "file_extension": ".py",
   "mimetype": "text/x-python",
   "name": "python",
   "nbconvert_exporter": "python",
   "pygments_lexer": "ipython3",
   "version": "3.6.2"
  }
 },
 "nbformat": 4,
 "nbformat_minor": 2
}
