{
 "cells": [
  {
   "cell_type": "markdown",
   "metadata": {},
   "source": [
    "# Run GeoClaw with various parameter choices\n",
    "\n",
    "Normally the GeoClaw fortran code is run by first adjusting the parameters in `setrun.py` and then executing `make .output` or `make .plots` at the command line.\n",
    "\n",
    "Here we do some runs from within the notebook in order to include some discussion of how different settings affect the results obtained.\n",
    "\n",
    "Before exectuting this notebook (or running GeoClaw from the command line), it is necessary to run the notebook [MakeInputFiles_test1.ipynb](MakeInputFiles_test1.ipynb) to create some input files required by GeoClaw."
   ]
  },
  {
   "cell_type": "code",
   "execution_count": null,
   "metadata": {},
   "outputs": [],
   "source": [
    "%matplotlib inline"
   ]
  },
  {
   "cell_type": "code",
   "execution_count": null,
   "metadata": {},
   "outputs": [],
   "source": [
    "# set dpi so that imshow works better for displaying png files:\n",
    "import matplotlib as mpl\n",
    "mpl.rcParams['figure.dpi']= 300"
   ]
  },
  {
   "cell_type": "code",
   "execution_count": null,
   "metadata": {},
   "outputs": [],
   "source": [
    "from pylab import *\n",
    "from IPython.display import Image\n",
    "import os\n",
    "from importlib import reload\n",
    "from clawpack.clawutil import nbtools\n",
    "from clawpack.pyclaw import solution"
   ]
  },
  {
   "cell_type": "code",
   "execution_count": null,
   "metadata": {},
   "outputs": [],
   "source": [
    "sys.path.insert(0,'../../new_python')\n",
    "import topotools, plottools, data_Qinit\n",
    "import gridtools"
   ]
  },
  {
   "cell_type": "markdown",
   "metadata": {},
   "source": [
    "#### Define a convenience function to display 3 frames from a simulation, side by side:"
   ]
  },
  {
   "cell_type": "code",
   "execution_count": null,
   "metadata": {},
   "outputs": [],
   "source": [
    "def plot_3frames(plotdir, figno=0, framenos=[0,1,2]):\n",
    "    print('Plotting figure %s, frames %s from %s' % (figno,framenos,plotdir))\n",
    "    frames = []\n",
    "    figure(figsize=(10,10))\n",
    "    for k in range(3):\n",
    "        subplot(1,3,k+1)\n",
    "        frameno = framenos[k]\n",
    "        png_file = os.path.join(plotdir, \\\n",
    "                                'frame000%sfig%s.png' % (frameno,figno))\n",
    "        frame = imread(png_file)\n",
    "        imshow(frame)\n",
    "        axis('off')\n",
    "    tight_layout()"
   ]
  },
  {
   "cell_type": "markdown",
   "metadata": {},
   "source": [
    "### Compile the fortran code:"
   ]
  },
  {
   "cell_type": "code",
   "execution_count": null,
   "metadata": {},
   "outputs": [],
   "source": [
    "nbtools.make_exe(new=True, verbose=False)"
   ]
  },
  {
   "cell_type": "markdown",
   "metadata": {},
   "source": [
    "### Set up the first run\n",
    "\n",
    "We use the parameters set in `setrun_notebook.py`:"
   ]
  },
  {
   "cell_type": "code",
   "execution_count": null,
   "metadata": {
    "collapsed": false
   },
   "outputs": [],
   "source": [
    "#import setrun_notebook; reload(setrun_notebook)  # for debugging\n",
    "\n",
    "from setrun_notebook import setrun\n",
    "rundata = setrun() \n",
    "rundata.write()"
   ]
  },
  {
   "cell_type": "markdown",
   "metadata": {},
   "source": [
    "The original `setrun_notebook.py` should be set up to run for 25 minutes of simulated time, with output every 5 minutes.  It is also set up to **not** use the `variable_eta_init` option or a `force_dry_init` array.  Check this:"
   ]
  },
  {
   "cell_type": "code",
   "execution_count": null,
   "metadata": {},
   "outputs": [],
   "source": [
    "print('rundata.clawdata.tfinal = ',rundata.clawdata.tfinal)\n",
    "print('rundata.clawdata.num_output_times = ',rundata.clawdata.num_output_times)\n",
    "print('rundata.qinit_data.variable_eta_init = ',rundata.qinit_data.variable_eta_init)\n",
    "print('rundata.qinit_data.force_dry_list = ',rundata.qinit_data.force_dry_list)"
   ]
  },
  {
   "cell_type": "markdown",
   "metadata": {},
   "source": [
    "## Run GeoClaw and make plots\n",
    "\n",
    "Using the `nbtools` module, we can run the code and make plots, putting the output and plots in directories with a distinct label in case you later want to compare them:"
   ]
  },
  {
   "cell_type": "code",
   "execution_count": null,
   "metadata": {
    "scrolled": false
   },
   "outputs": [],
   "source": [
    "# Run the code with the original parameter settings\n",
    "outdir,plotdir = nbtools.make_output_and_plots(label='1',verbose=True)"
   ]
  },
  {
   "cell_type": "markdown",
   "metadata": {},
   "source": [
    "### Plot the first 3 frames...\n",
    "\n",
    "The full domain shows the tsunami initiating, with the leading depression (dark blue) near the coast:"
   ]
  },
  {
   "cell_type": "code",
   "execution_count": null,
   "metadata": {},
   "outputs": [],
   "source": [
    "plotdir = '_plots_1'\n",
    "plot_3frames(plotdir, figno=0)"
   ]
  },
  {
   "cell_type": "markdown",
   "metadata": {},
   "source": [
    "#### The coastal region:"
   ]
  },
  {
   "cell_type": "code",
   "execution_count": null,
   "metadata": {},
   "outputs": [],
   "source": [
    "plotdir = '_plots_1'\n",
    "plot_3frames(plotdir, figno=11)"
   ]
  },
  {
   "cell_type": "markdown",
   "metadata": {},
   "source": [
    "The three plots above show a zoomed view along the coast. Note the following:\n",
    "\n",
    " - The water is colored by elevation of the surface (relative to `sea_level = 0` in this simulation), with darker blue showing elevations below 0 and reds showing elevations above 0. In `setplot.py` we use `plotitem.plot_var = geoplot.surface` to plot this. Often we use `plotitem.plot_var = geoplot.surface_or_depth` which assigns colors based on surface offshore and based on depth of water onshore.  This is more useful in some cases but misleading here since it determines \"onshore\" based on the topography values.\n",
    " \n",
    " - At time 0 only levels 1 and 2 are present, by 5 minutes level 3 has been added, and by time 10 minutes, the 4th level has appeared.  Level 4 is required only after `t = 5*60.` (5 minutes) and only in the white dashed rectangle.  \n",
    " \n",
    " - Yellow curves are contours of topo (as computed on level 3).  Because of the co-seismic subsidence, GeoClaw fills in with water to `z = 0` on this subsided topography and the region flooded agrees with what we expect from the plot below, which was produced in [MakeInputFiles_test1.ipynb](MakeInputFiles_test1.ipynb).  This is **not** what we want, and we address this in the tests below."
   ]
  },
  {
   "cell_type": "code",
   "execution_count": null,
   "metadata": {},
   "outputs": [],
   "source": [
    "Image('topo_with_dz.png', width=600)"
   ]
  },
  {
   "cell_type": "markdown",
   "metadata": {},
   "source": [
    "## Use `variable_eta_init`\n",
    "\n",
    "Because we do not refine to Level 3 or 4 until after the earthquake has occurred, we do not want GeoClaw to fill in newly-created fine grid cells with water up `z = sea_level`, but only up to `z = sea_level + dz`, where `dz` is the change in elevation due to co-seismic deformation (negative for subsidence).\n",
    "\n",
    "This can be requested by setting `rundata.qinit_data.variable_eta_init = True` in `setrun.py`, or in the notebook we can change this one value and re-create the `.data` files that will be read by GeoClaw:"
   ]
  },
  {
   "cell_type": "code",
   "execution_count": null,
   "metadata": {},
   "outputs": [],
   "source": [
    "rundata.qinit_data.variable_eta_init = True\n",
    "rundata.write()"
   ]
  },
  {
   "cell_type": "markdown",
   "metadata": {},
   "source": [
    "Re-run the code and save to a new set of directories:"
   ]
  },
  {
   "cell_type": "code",
   "execution_count": null,
   "metadata": {
    "collapsed": false
   },
   "outputs": [],
   "source": [
    "label = '2'\n",
    "outdir,plotdir = nbtools.make_output_and_plots(label=label,verbose=False)"
   ]
  },
  {
   "cell_type": "markdown",
   "metadata": {},
   "source": [
    "This makes negligible change in the ocean-scale results, so we only show the new zoomed coastal plots:"
   ]
  },
  {
   "cell_type": "code",
   "execution_count": null,
   "metadata": {},
   "outputs": [],
   "source": [
    "plotdir = '_plots_%s' % label\n",
    "plot_3frames(plotdir, figno=11)"
   ]
  },
  {
   "cell_type": "markdown",
   "metadata": {},
   "source": [
    "Now we see that the region that initially had `z > 0` remains dry initially in spite of the subsidence of the topography."
   ]
  },
  {
   "cell_type": "markdown",
   "metadata": {},
   "source": [
    "## Use the `force_dry_init` array\n",
    "\n",
    "In [MakeInputFiles_test1.ipynb](MakeInputFiles_test1.ipynb) we created a file `input_files/force_dry_init.data` that specifies points that should be forced to be dry when new level 4 grids are initialized, even if the GeoClaw topo value is less than 0.  \n",
    "\n",
    "We can use this by creating a Python object `ForceDry` specifying the filename and also the time period over which this should be used, and then appending this to `rundata.qinit_data.force_dry_list` as we do in the next cell.\n",
    "\n",
    "Notes:\n",
    "\n",
    " - Currently at most one such object can be in the list, but in the future we will add support for specifying several `force_dry_init` arrays covering different regions and/or at different grid resolutions.\n",
    " \n",
    " - The array is used only when initializing grid patches that have exactly the same resolution as the `force_dry_init` array (and then it is assumed that grid points of this array coincide with cell centers on the patch).  Generally this is used to specify regions that should be forced dry on the finest level.  Coarser grid cells may not be dry in the same regions, but normally the finest grid level is introduced *before* the tsunami arrives so this hopefully does not matter.  (It is problematic trying to initialize coarser grids by e.g. interpolating into the finer `force_dry_init` array since on the coarser grid such a cell might be connected to the ocean by other coarse cells below sea level, and so forcing it to be dry might introduce a discontinuity in water level that leads to huge spurious waves on the coarser grids that pollute the entire computation.)\n",
    " \n",
    " - The ending time `force_dry.tend` is required because at times after the tsunami has come into a region we no longer want to force land to be dry.  The value of `force_dry.tend` should be chosen to be *after* the finest grids have been introduced in the region of interest but *before* the tsunami is expected to arrive.  In setting this, remember that if the finest grid level is required by some flagregion starting at some time `t1`, then that finest level will not actually exist in the computation until the next regridding time at higher levels when this is first seen, so the finer grids do not appear until somewhat later.  In the example used here, the level 4 grid is required in a flagregion that is active starting at 5 minutes, but the results shown above at 5 minutes still only show 3 levels.  For this reason we set `force_dry.tend = 7*60.` below, so `force_dry_init` array is used up to 7 minutes.  "
   ]
  },
  {
   "cell_type": "code",
   "execution_count": null,
   "metadata": {},
   "outputs": [],
   "source": [
    "rundata.qinit_data.force_dry_list = []\n",
    "force_dry = data_Qinit.ForceDry()   # new data object\n",
    "force_dry.tend = 7*60.  # force dry up to 7 minutes \n",
    "force_dry.fname = 'input_files/force_dry_init.data'\n",
    "rundata.qinit_data.force_dry_list.append(force_dry)\n",
    "rundata.write()"
   ]
  },
  {
   "cell_type": "code",
   "execution_count": null,
   "metadata": {},
   "outputs": [],
   "source": [
    "label='3'\n",
    "outdir,plotdir = nbtools.make_output_and_plots(label=label,verbose=False)"
   ]
  },
  {
   "cell_type": "code",
   "execution_count": null,
   "metadata": {},
   "outputs": [],
   "source": [
    "plotdir = '_plots_%s' % label\n",
    "plot_3frames(plotdir, figno=11)"
   ]
  },
  {
   "cell_type": "markdown",
   "metadata": {},
   "source": [
    "Note that, as discussed in the notes above, the onshore depression is filled with water on levels 2 and 3, but once level 4 is introduced the dry land at 10 minutes is correct in the plots above, and this has been properly initialized before the tsunami arrives."
   ]
  },
  {
   "cell_type": "markdown",
   "metadata": {},
   "source": [
    "## Results at later times\n",
    "\n",
    "Now we compare the results at later times, after the positive tsunami has arrived on shore, to show how the different ways of initializing the computation affect the computed results.\n",
    "\n",
    "The run just performed with `variable_eta_init` and `force_dry_init` gives these results at 15, 20, and 25 minutes post-quake:"
   ]
  },
  {
   "cell_type": "code",
   "execution_count": null,
   "metadata": {},
   "outputs": [],
   "source": [
    "plotdir = '_plots_3'\n",
    "plot_3frames(plotdir, figno=11, framenos=[3,4,5])"
   ]
  },
  {
   "cell_type": "markdown",
   "metadata": {},
   "source": [
    "Note in the plots above that we can see the depression start to fill in with water as the tsunami flows around it.\n",
    "\n",
    "By contrast, the original run we did, without `variable_eta_init` and `force_dry_init` gives these results at 15, 20, and 25 minutes post-quake:"
   ]
  },
  {
   "cell_type": "code",
   "execution_count": null,
   "metadata": {},
   "outputs": [],
   "source": [
    "plotdir = '_plots_1'\n",
    "plot_3frames(plotdir, figno=11, framenos=[3,4,5])"
   ]
  },
  {
   "cell_type": "markdown",
   "metadata": {},
   "source": [
    "In these plots we see that the depression and other onshore areas were already filled with water before the positive tsunami wave arrive, and that it then sweeps over the \"lake\" much more quickly."
   ]
  },
  {
   "cell_type": "markdown",
   "metadata": {},
   "source": [
    "## Transect plots\n",
    "\n",
    "It is easier to visualize the flow in each case by plotting the solution along transects through the depression.  See the notebook [gridtools.ipynb](gridtools.ipynb) for more discussion of the `gridtools` module used here:"
   ]
  },
  {
   "cell_type": "code",
   "execution_count": null,
   "metadata": {},
   "outputs": [],
   "source": [
    "eta = lambda q: q[3,:,:]\n",
    "B = lambda q: q[3,:,:]-q[0,:,:]\n",
    "out_var = lambda q: array((B(q),eta(q)))\n",
    "\n",
    "xout = linspace(-0.005, 0.01, 1001)\n",
    "ylat = 0.002\n",
    "yout = ylat * ones(xout.shape)\n",
    "\n",
    "for frameno in range(6):\n",
    "    figure(figsize=(10,2))\n",
    "    subplot(121)\n",
    "    framesoln = solution.Solution(frameno, path='_output_1', file_format='binary')\n",
    "    qout = gridtools.grid_output_2d(framesoln, out_var, xout, yout, \n",
    "                                     levels='all',return_ma=True)\n",
    "    B_out = qout[0,:]\n",
    "    eta_out = qout[1,:]\n",
    "    \n",
    "    fill_between(xout, eta_out, B_out, color=[.5,.5,1])\n",
    "    fill_between(xout, B_out, -6, color=[.7,1,.7])\n",
    "    plot(xout, B_out, 'g')\n",
    "    plot(xout, eta_out, 'b')\n",
    "    title('_output_1 along y = %.4f at t = %.1f' % (ylat, framesoln.t))\n",
    "    \n",
    "    subplot(122)\n",
    "    framesoln = solution.Solution(frameno, path='_output_3', file_format='binary')\n",
    "    qout = gridtools.grid_output_2d(framesoln, out_var, xout, yout, \n",
    "                                     levels='all',return_ma=True)\n",
    "    B_out = qout[0,:]\n",
    "    eta_out = qout[1,:]\n",
    "    \n",
    "    fill_between(xout, eta_out, B_out, color=[.5,.5,1])\n",
    "    fill_between(xout, B_out, -6, color=[.7,1,.7])\n",
    "    plot(xout, B_out, 'g')\n",
    "    plot(xout, eta_out, 'b')\n",
    "    title('_output_3 along y = %.4f at t = %.1f' % (ylat, framesoln.t))"
   ]
  },
  {
   "cell_type": "markdown",
   "metadata": {},
   "source": [
    "In the plots above, the left column shows the results from the first test, where the depression was initially a lake, even on the finest grid resolution, while the right column shows the more correct results when the depression is initialized to dry (once the finest grid level is introduced in this region)."
   ]
  },
  {
   "cell_type": "code",
   "execution_count": null,
   "metadata": {
    "collapsed": false
   },
   "outputs": [],
   "source": []
  }
 ],
 "metadata": {
  "kernelspec": {
   "display_name": "Python 3",
   "language": "python",
   "name": "python3"
  },
  "language_info": {
   "codemirror_mode": {
    "name": "ipython",
    "version": 3
   },
   "file_extension": ".py",
   "mimetype": "text/x-python",
   "name": "python",
   "nbconvert_exporter": "python",
   "pygments_lexer": "ipython3",
   "version": "3.6.7"
  }
 },
 "nbformat": 4,
 "nbformat_minor": 2
}
