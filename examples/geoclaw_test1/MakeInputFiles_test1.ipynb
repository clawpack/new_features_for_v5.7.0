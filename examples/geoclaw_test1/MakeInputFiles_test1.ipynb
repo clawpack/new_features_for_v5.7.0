{
 "cells": [
  {
   "cell_type": "code",
   "execution_count": null,
   "metadata": {},
   "outputs": [],
   "source": [
    "%matplotlib inline"
   ]
  },
  {
   "cell_type": "code",
   "execution_count": null,
   "metadata": {},
   "outputs": [],
   "source": [
    "from pylab import *\n",
    "from clawpack.geoclaw import dtopotools\n",
    "from scipy.interpolate import interp1d"
   ]
  },
  {
   "cell_type": "code",
   "execution_count": null,
   "metadata": {},
   "outputs": [],
   "source": [
    "sys.path.insert(0,'../../new_python')\n",
    "import topotools, marching_front"
   ]
  },
  {
   "cell_type": "markdown",
   "metadata": {},
   "source": [
    "## Define ocean topography\n",
    "\n",
    "This simple topography is piecewise linear in $x$ (longitude) with a continental shelf and beach, and constant in the $y$ (latitude) direction.  It is placed at the equator."
   ]
  },
  {
   "cell_type": "code",
   "execution_count": null,
   "metadata": {},
   "outputs": [],
   "source": [
    "# Define piecewise linear function (unequally spaced):\n",
    "xocean = array([-2,-1,-0.5,-0.1,0.1])\n",
    "zocean = array([-3000,-3000,-100,-100,100])\n",
    "\n",
    "# Interpolate to equally spaced grid for topofile:\n",
    "xo = arange(-2,0.2,0.1)\n",
    "yo = array([-2,2])\n",
    "zfunc = interp1d(xocean,zocean,fill_value=\"extrapolate\")\n",
    "zo = zfunc(xo)\n",
    "\n",
    "# Convert to 2d arrays:\n",
    "Xo,Yo = meshgrid(xo,yo)\n",
    "Zo = vstack((zo,zo))"
   ]
  },
  {
   "cell_type": "code",
   "execution_count": null,
   "metadata": {},
   "outputs": [],
   "source": [
    "figure(figsize=(12,5))\n",
    "subplot(121)\n",
    "contourf(Xo,Yo,Zo)\n",
    "colorbar()\n",
    "title('Ocean Topography')\n",
    "subplot(122)\n",
    "plot(xo,zo,'k-')\n",
    "fill_between(xo,zo,maximum(zo,0),color=[.5,.5,1])\n",
    "title('Topography on transect')"
   ]
  },
  {
   "cell_type": "markdown",
   "metadata": {},
   "source": [
    "### Save as a topofile:"
   ]
  },
  {
   "cell_type": "code",
   "execution_count": null,
   "metadata": {},
   "outputs": [],
   "source": [
    "topo = topotools.Topography()\n",
    "topo.set_xyZ(xo,yo,Zo)\n",
    "\n",
    "topo.write('input_files/topo_ocean.tt3', topo_type=3, Z_format=\"%11.3e\")"
   ]
  },
  {
   "cell_type": "markdown",
   "metadata": {},
   "source": [
    "## Define topo for small coastal region\n",
    "\n",
    "We define some more complicated topography on a finer grid over a small coastal region with 1/3 arcsecond resolution, chosen to be aligned with integer multiples of degrees (e.g. a grid point at longitude `x=0` and latitude `y=0`) as typical of real DEMs from NCEI.  This is important when aligning fgmax grids in `setrun.py`.   \n",
    "\n",
    "We will use a cutoff function so that this fine-scale topo matches the linear beach profile of the ocean topography along the edges of this rectangle.  The cutoff is 1 in the center of the rectangle and decays to 0 at the edges:"
   ]
  },
  {
   "cell_type": "code",
   "execution_count": null,
   "metadata": {},
   "outputs": [],
   "source": [
    "# choose DEM grid points:\n",
    "arcsec13 = 1./(3*3600.)  # 1/3 arcsecond\n",
    "print('arcsec13 = %.6f degrees = %.2f meters' % (arcsec13,arcsec13*111e3))\n",
    "x = arange(-30*arcsec13, 85*arcsec13, arcsec13)\n",
    "y = arange(-55*arcsec13, 55*arcsec13, arcsec13)\n",
    "X,Y = meshgrid(x,y)\n",
    "print('X.shape = ', X.shape)\n",
    "\n",
    "x1,x2 = x.min(), x.max()\n",
    "y1,y2 = y.min(), y.max()\n",
    "\n",
    "# define and plot the cutoff function:\n",
    "\n",
    "cutoff = 1. / (1. + exp(1e4*(X-0.007)) + exp(1e4*(-0.002-X)) \\\n",
    "                  + exp(1e4*(Y-0.004)) + exp(1e4*(-0.004-Y)))\n",
    "\n",
    "contourf(X,Y,cutoff)\n",
    "colorbar()\n",
    "title('Cutoff function');"
   ]
  },
  {
   "cell_type": "markdown",
   "metadata": {},
   "source": [
    "The topography in this region is the linearly sloping beach augmented by two Gaussian dips:"
   ]
  },
  {
   "cell_type": "code",
   "execution_count": null,
   "metadata": {},
   "outputs": [],
   "source": [
    "Z0 = 1e3*X  # sloping beach with slope 1 km / degree which is roughly 1/100.\n",
    "R1 = (X-0.004)**2 + (Y-0.002)**2\n",
    "Z = -9*exp(-500000*R1)\n",
    "R2 = (X-0.005)**2 + (Y+0.002)**2\n",
    "Z += -4*exp(-100000*R2)\n",
    "Z *= cutoff\n",
    "Z += Z0"
   ]
  },
  {
   "cell_type": "markdown",
   "metadata": {},
   "source": [
    "### Plot the coastal topography:"
   ]
  },
  {
   "cell_type": "code",
   "execution_count": null,
   "metadata": {},
   "outputs": [],
   "source": [
    "# colors:\n",
    "c = [[.2,.2,1],[.5,.5,1],[.8,.8,1],[.8,1,.8],[.2,.8,0],[.9,.8,.2]]\n",
    "\n",
    "figure(figsize=(12,6))\n",
    "subplot(121)\n",
    "contourf(X,Y,Z,[-2,-1,0,1,2],colors=c,extend='both')\n",
    "cb = colorbar(shrink=0.7)\n",
    "cb.set_label('meters')\n",
    "contour(X,Y,Z,[-2,-1,0,1,2],colors=['b','b','r','g','g'])\n",
    "gca().set_aspect(1.)\n",
    "xticks(rotation=20)\n",
    "xlabel('Longitude')\n",
    "ylabel('Latitude')\n",
    "\n",
    "subplot(122)\n",
    "contourf(X*111e3,Y*111e3,Z,[-2,-1,0,1,2],colors=c,extend='both')\n",
    "cb = colorbar(shrink=0.7)\n",
    "cb.set_label('meters')\n",
    "contour(X*111e3,Y*111e3,Z,[-2,-1,0,1,2],colors=['b','b','r','g','g'])\n",
    "gca().set_aspect(1.)\n",
    "xticks(rotation=20)\n",
    "xlabel('meters');"
   ]
  },
  {
   "cell_type": "markdown",
   "metadata": {},
   "source": [
    "The plot on the right above shows the same topography as on the left, but with x,y units of meters to better show the scale.  Recall that 1 degree is about 111 km and 1/3 arcsec is about 10 meters.\n",
    "\n",
    "In the plots above, the red contour is at $Z = 0$, and hence is the \"shoreline\".  However, the isolated \"lake\" with elevation $Z < 0$ could be dry land below sea level.  Normally with GeoClaw this region would be filled with water initially up to $Z = 0$ everywhere.  Below we discuss how to force this region to be initialized as dry if it is in fact dry land."
   ]
  },
  {
   "cell_type": "markdown",
   "metadata": {},
   "source": [
    "### Save this as a topofile:"
   ]
  },
  {
   "cell_type": "code",
   "execution_count": null,
   "metadata": {},
   "outputs": [],
   "source": [
    "topo = topotools.Topography()\n",
    "topo.set_xyZ(x,y,Z)\n",
    "\n",
    "topo.write('input_files/topo_shore.tt3', topo_type=3, Z_format=\"%11.3e\")\n",
    "topo.plot()"
   ]
  },
  {
   "cell_type": "markdown",
   "metadata": {},
   "source": [
    "### Plot both topo sets together\n",
    "\n",
    "The coastal region above is very small compared to the ocean region defined above.  Here we plot both together:"
   ]
  },
  {
   "cell_type": "code",
   "execution_count": null,
   "metadata": {},
   "outputs": [],
   "source": [
    "def plot_topo(add_colorbar=False):\n",
    "    contourf(Xo,Yo,Zo,[-2,-1,0,1,2],colors=c,extend='both')\n",
    "    contourf(X,Y,Z,[-2,-1,0,1,2],colors=c,extend='both')\n",
    "    if add_colorbar: \n",
    "        cb = colorbar()\n",
    "        cb.set_label('meters')\n",
    "    contour(X,Y,Z,[-2,-1,0,1,2],colors=['b','b','r','g','g'])\n",
    "    plot([x1,x1,x2,x2,x1],[y1,y2,y2,y1,y1],'k')\n",
    "    gca().set_aspect(1.)\n",
    "    xticks(rotation=20)\n",
    "    xlabel('Longitude')\n",
    "    ylabel('Latitude')\n",
    "\n",
    "figure(figsize=(12,6))\n",
    "subplot(121)\n",
    "plot_topo()\n",
    "title('Ocean Topography')\n",
    "subplot(122)\n",
    "plot_topo(add_colorbar=True)\n",
    "axis([-0.004, 0.01, -0.01, 0.01])\n",
    "title('Zoom around shore');"
   ]
  },
  {
   "cell_type": "markdown",
   "metadata": {},
   "source": [
    "In the plot on the left above, the black rectangle showing the extent of the coastal DEM is barely visible.  Zooming in shows that the topography does match up near the edges of this rectangle.  In GeoClaw the finest available topography is used when computing cell-averaged topo values, so the coastal DEM will be used for any cell that overlaps this region. "
   ]
  },
  {
   "cell_type": "markdown",
   "metadata": {},
   "source": [
    "## Create dtopo for an earthquake source:\n",
    "\n",
    "We define a simple earthquake in which there is uniform slip on a single subfault of dimension 100 km by 50 km, with parameters chosen to be reasonable for a subduction zone event offshore:"
   ]
  },
  {
   "cell_type": "code",
   "execution_count": null,
   "metadata": {},
   "outputs": [],
   "source": [
    "subfault = dtopotools.SubFault()\n",
    "subfault.strike = 0.\n",
    "subfault.length = 50.e3\n",
    "subfault.width = 100.e3\n",
    "subfault.depth = 10.e3\n",
    "subfault.slip = 5.\n",
    "subfault.rake = 90.\n",
    "subfault.dip = 10.\n",
    "subfault.longitude = -1.\n",
    "subfault.latitude = 0.\n",
    "subfault.coordinate_specification = \"top center\"\n",
    "\n",
    "fault = dtopotools.Fault()\n",
    "fault.subfaults = [subfault]\n",
    "\n",
    "print(\"Earthquake magnitude: Mw = %.2f\" % fault.Mw())\n",
    "dtopo_fname = 'input_files/dtopo_test.tt3'\n",
    "print(\"Using Okada model to create dtopo file\", dtopo_fname)\n",
    "\n",
    "x = linspace(-2, 1, 100)\n",
    "y = linspace(-1, 1, 100)\n",
    "times = [1.]\n",
    "\n",
    "fault.create_dtopography(x,y,times)\n",
    "dtopo = fault.dtopo\n",
    "\n",
    "dtopo.write(dtopo_fname, dtopo_type=3)\n",
    "\n",
    "figure(figsize=(12,6))\n",
    "ax = subplot(121)\n",
    "dtopo.plot_dZ_colors(2.,axes=ax,dZ_interval=0.5)\n",
    "contour(Xo,Yo,Zo,[-110,-90,0],colors=['b','b','r'],linestyles='--')\n",
    "ax.set_aspect(1.)\n",
    "axis([-2,0.5,-2,2])\n",
    "xlabel('Longitude')\n",
    "ylabel('Latitude')\n",
    "\n",
    "ax = subplot(122)\n",
    "ylat = 0.\n",
    "jlat = where(dtopo.y<=ylat)[0].max()\n",
    "plot(dtopo.x, dtopo.dZ[0,jlat,:],'g')\n",
    "plot(dtopo.x, 0*dtopo.x, 'k')\n",
    "xlabel('Longitude')\n",
    "title('Vertical displacement on transect at latitude %.2f' % ylat);"
   ]
  },
  {
   "cell_type": "markdown",
   "metadata": {},
   "source": [
    "The left plot above shows the sea floor deformation as contours and colors, along with the extent of the continental shelf as blue dashed lines and the shoreline as a red dashed line. The plot on the right shows the vertical deformation along a transect at latitude 0 going through the coastal region of interest.  \n",
    "\n",
    "We can compute the subsidence at the location on the shoreline where our fine scale topography is defined as:"
   ]
  },
  {
   "cell_type": "code",
   "execution_count": null,
   "metadata": {},
   "outputs": [],
   "source": [
    "xlon = 0.\n",
    "ilon = where(dtopo.x<=xlon)[0].max()\n",
    "ylat = 0.\n",
    "jlat = where(dtopo.y<=ylat)[0].max()\n",
    "#print(ilon,jlat)\n",
    "dz0 = dtopo.dZ[0,jlat,ilon]\n",
    "print('Surface deformation at x=%.2f, y=%.2f is dz = %.2f meters' \\\n",
    "      % (xlon,ylat,dz0))"
   ]
  },
  {
   "cell_type": "markdown",
   "metadata": {},
   "source": [
    "This subsidence is enough to significantly change the shoreline location, as seen below:"
   ]
  },
  {
   "cell_type": "code",
   "execution_count": null,
   "metadata": {},
   "outputs": [],
   "source": [
    "figure(figsize=(12,6))\n",
    "subplot(121)\n",
    "contourf(X,Y,Z,[-2,-1,0,1,2],colors=c,extend='both')\n",
    "cb = colorbar(shrink=0.7)\n",
    "cb.set_label('meters')\n",
    "contour(X,Y,Z,[-2,-1,0,1,2],colors=['b','b','r','g','g'])\n",
    "gca().set_aspect(1.)\n",
    "xticks(rotation=20)\n",
    "#xlim(-0.002,0.008)\n",
    "xlabel('Longitude')\n",
    "ylabel('Latitude')\n",
    "title('Original topo')\n",
    "\n",
    "subplot(122)\n",
    "Z_postquake = Z + dz0\n",
    "contourf(X,Y,Z_postquake,[-2,-1,0,1,2],colors=c,extend='both')\n",
    "cb = colorbar(shrink=0.7)\n",
    "cb.set_label('meters')\n",
    "contour(X,Y,Z_postquake,[-2,-1,0,1,2],colors=['b','b','r','g','g'])\n",
    "gca().set_aspect(1.)\n",
    "xticks(rotation=20)\n",
    "#xlim(-0.002,0.008)\n",
    "xlabel('Longitude')\n",
    "ylabel('Latitude')\n",
    "title('Subsided topo, dz = %.2f m' % dz0);"
   ]
  },
  {
   "cell_type": "code",
   "execution_count": null,
   "metadata": {},
   "outputs": [],
   "source": [
    "Ztemp = topo.Z.copy()\n",
    "Ztemp[:2,:2] = -50."
   ]
  },
  {
   "cell_type": "code",
   "execution_count": null,
   "metadata": {},
   "outputs": [],
   "source": [
    "wet_points = marching_front.select_by_flooding(Ztemp, Z1=-40., Z2=0., max_iters=None)\n",
    "\n",
    "Zdry = ma.masked_array(topo.Z, wet_points)\n",
    "Zwet = ma.masked_array(topo.Z, logical_not(wet_points))"
   ]
  },
  {
   "cell_type": "code",
   "execution_count": null,
   "metadata": {},
   "outputs": [],
   "source": [
    "figure(figsize=(12,6))\n",
    "contourf(X,Y,Zdry,[-2,-1,0,1,2],colors=c,extend='both')\n",
    "cb = colorbar(shrink=0.7)\n",
    "cb.set_label('meters')\n",
    "contour(X,Y,Z,[-2,-1,0,1,2],colors=['b','b','r','g','g'])\n",
    "gca().set_aspect(1.)\n",
    "xticks(rotation=20)\n",
    "#xlim(-0.002,0.008)\n",
    "xlabel('Longitude')\n",
    "ylabel('Latitude')\n",
    "title('Points identified as initially dry');"
   ]
  },
  {
   "cell_type": "code",
   "execution_count": null,
   "metadata": {},
   "outputs": [],
   "source": [
    "dry_points = 1 - wet_points\n",
    "dry_points_sum = dry_points[1:-1,1:-1] + dry_points[0:-2,1:-1] + dry_points[2:,1:-1] + \\\n",
    "                 dry_points[1:-1,0:-2] + dry_points[0:-2,0:-2] + dry_points[2:,0:-2] + \\\n",
    "                 dry_points[1:-1,2:] + dry_points[0:-2,2:] + dry_points[2:,2:]\n",
    "        \n",
    "# initialize array to 0 everywhere:\n",
    "force_dry_init = zeros(dry_points.shape)\n",
    "# reset in interior to 1 if all points in the 3x3 block around it are dry:\n",
    "force_dry_init[1:-1,1:-1] = where(dry_points_sum == 9, 1, 0)"
   ]
  },
  {
   "cell_type": "code",
   "execution_count": null,
   "metadata": {},
   "outputs": [],
   "source": [
    "force_dry_init_topo = topotools.Topography()\n",
    "force_dry_init_topo.set_xyZ(topo.x,topo.y,force_dry_init)\n",
    "\n",
    "fname_force_dry_init = 'input_files/force_dry_init.data'\n",
    "force_dry_init_topo.write(fname_force_dry_init, topo_type=3, Z_format='%1i')\n",
    "print('Created %s' % fname_force_dry_init)"
   ]
  },
  {
   "cell_type": "code",
   "execution_count": null,
   "metadata": {},
   "outputs": [],
   "source": []
  }
 ],
 "metadata": {
  "kernelspec": {
   "display_name": "Python 3",
   "language": "python",
   "name": "python3"
  },
  "language_info": {
   "codemirror_mode": {
    "name": "ipython",
    "version": 3
   },
   "file_extension": ".py",
   "mimetype": "text/x-python",
   "name": "python",
   "nbconvert_exporter": "python",
   "pygments_lexer": "ipython3",
   "version": "3.6.5"
  }
 },
 "nbformat": 4,
 "nbformat_minor": 2
}
