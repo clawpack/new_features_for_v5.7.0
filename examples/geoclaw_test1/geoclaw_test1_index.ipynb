{
 "cells": [
  {
   "cell_type": "markdown",
   "metadata": {},
   "source": [
    "# GeoClaw Test1 Index\n",
    "\n",
    "This example in `examples/geoclaw_test1` illustrates several new features, in particular use of `variable_eta_init` and a `force_dry_init` array.  Synthetic topography is used for illustration.\n",
    "\n",
    " - [MakeInputFiles_test1.ipynb](MakeInputFiles_test1.ipynb): Creates input files for this example, including topo and dtopo files as well as a `force_dry_init` array.\n",
    " \n",
    " - [RunGeoclaw.ipynb](RunGeoclaw.ipynb): Shows examples of several different runs with different parameter settings.\n",
    " \n",
    " "
   ]
  },
  {
   "cell_type": "code",
   "execution_count": null,
   "metadata": {
    "collapsed": false
   },
   "outputs": [],
   "source": []
  }
 ],
 "metadata": {
  "kernelspec": {
   "display_name": "Python 3",
   "language": "python",
   "name": "python3"
  },
  "language_info": {
   "codemirror_mode": {
    "name": "ipython",
    "version": 3
   },
   "file_extension": ".py",
   "mimetype": "text/x-python",
   "name": "python",
   "nbconvert_exporter": "python",
   "pygments_lexer": "ipython3",
   "version": "3.6.2"
  }
 },
 "nbformat": 4,
 "nbformat_minor": 2
}
