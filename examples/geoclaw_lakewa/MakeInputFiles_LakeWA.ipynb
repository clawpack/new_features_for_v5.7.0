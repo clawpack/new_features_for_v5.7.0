{
 "cells": [
  {
   "cell_type": "markdown",
   "metadata": {},
   "source": [
    "# Make input files for Lake Washington simulation"
   ]
  },
  {
   "cell_type": "code",
   "execution_count": null,
   "metadata": {
    "collapsed": false
   },
   "outputs": [],
   "source": [
    "%matplotlib inline"
   ]
  },
  {
   "cell_type": "code",
   "execution_count": null,
   "metadata": {
    "collapsed": false
   },
   "outputs": [],
   "source": [
    "from pylab import *\n",
    "from IPython.display import Image\n",
    "import os,sys\n",
    "from clawpack.visclaw import colormaps"
   ]
  },
  {
   "cell_type": "code",
   "execution_count": null,
   "metadata": {
    "collapsed": false
   },
   "outputs": [],
   "source": [
    "sys.path.insert(0,'../../new_python')\n",
    "import region_tools, topotools, marching_front, dtopotools, topotools, kmltools\n",
    "from plottools import pcolorcells"
   ]
  },
  {
   "cell_type": "code",
   "execution_count": null,
   "metadata": {
    "collapsed": false
   },
   "outputs": [],
   "source": [
    "sea_level_lake = 3.1"
   ]
  },
  {
   "cell_type": "code",
   "execution_count": null,
   "metadata": {
    "collapsed": false
   },
   "outputs": [],
   "source": [
    "zmin = -60.\n",
    "zmax = 40.\n",
    "\n",
    "land_cmap = colormaps.make_colormap({ 0.0:[0.1,0.4,0.0],\n",
    "                                     0.25:[0.0,1.0,0.0],\n",
    "                                      0.5:[0.8,1.0,0.5],\n",
    "                                      1.0:[0.8,0.5,0.2]})\n",
    "\n",
    "sea_cmap = colormaps.make_colormap({ 0.0:[0,0,1], 1.:[.8,.8,1]})\n",
    "\n",
    "cmap, norm = colormaps.add_colormaps((land_cmap, sea_cmap),\n",
    "                                     data_limits=(zmin,zmax),\n",
    "                                     data_break=sea_level_lake)\n",
    "                                     \n",
    "sea_cmap_dry = colormaps.make_colormap({ 0.0:[1.0,0.7,0.7], 1.:[1.0,0.7,0.7]})\n",
    "cmap_dry, norm_dry = colormaps.add_colormaps((land_cmap, sea_cmap_dry),\n",
    "                                     data_limits=(zmin,zmax),\n",
    "                                     data_break=sea_level_lake)"
   ]
  },
  {
   "cell_type": "markdown",
   "metadata": {},
   "source": [
    "## Download 1/3\" topo of Lake Washington"
   ]
  },
  {
   "cell_type": "code",
   "execution_count": null,
   "metadata": {},
   "outputs": [],
   "source": [
    "try:\n",
    "    # read existing file\n",
    "    topo_1_3sec = topotools.Topography()\n",
    "    topo_1_3sec.read('input_files/topo_1_3sec_LakeWA.tt3')\n",
    "    print('Read existing file')\n",
    "except:\n",
    "    try:\n",
    "        extent = [-122.45, -122.1, 47.39, 47.81]\n",
    "        path = 'https://www.ngdc.noaa.gov/thredds/dodsC/regional/puget_sound_13_mhw_2014.nc'\n",
    "        topo_1_3sec = topotools.read_netcdf(path, extent=extent, verbose=True)\n",
    "        topo_1_3sec.write('input_files/topo_1_3sec_LakeWA.tt3')\n",
    "    except:\n",
    "        # in case that fails:\n",
    "        from clawpack.clawutil.data import get_remote_file\n",
    "        print('Reading from thredds server failed, instead read cached version from geoclaw...')\n",
    "        remote_topo_dir = 'http://depts.washington.edu/clawpack/geoclaw/topo/WA/'\n",
    "        fname = 'topo_1_3sec_LakeWA.tt3'\n",
    "        path = os.path.join(remote_topo_dir, fname)\n",
    "        get_remote_file(path, output_dir='input_files', file_name=fname, \n",
    "                        verbose=True)\n",
    "        topo_1_3sec = topotools.Topography()\n",
    "        topo_1_3sec.read('input_files/topo_1_3sec_LakeWA.tt3') "
   ]
  },
  {
   "cell_type": "markdown",
   "metadata": {},
   "source": [
    "## Define boundary between Sound and Lake\n",
    "\n",
    "This will be used for selecting fgmax points below, and also for setting the initial lake elevation to be greater than the initial sea level (MHW) in the Sound. "
   ]
  },
  {
   "cell_type": "code",
   "execution_count": null,
   "metadata": {
    "collapsed": false
   },
   "outputs": [],
   "source": [
    "ybdry = array([47.39,   47.46,  47.54, 47.60,      47.65,     47.68,   47.82])\n",
    "xbdry = array([-122.2, -122.2, -122.3, -122.31, -122.3974, -122.3974, -122.28])"
   ]
  },
  {
   "cell_type": "code",
   "execution_count": null,
   "metadata": {},
   "outputs": [],
   "source": [
    "figure(figsize=(10,6))\n",
    "ax = subplot(121)\n",
    "contourf(topo_1_3sec.X,topo_1_3sec.Y,topo_1_3sec.Z,[0,1e6],colors=[[.5,1,.5]], alpha=0.3)\n",
    "contour(topo_1_3sec.X,topo_1_3sec.Y,topo_1_3sec.Z,[0],colors='g')\n",
    "plot(xbdry,ybdry,'k')\n",
    "gca().set_aspect(1./cos(48*pi/180.));"
   ]
  },
  {
   "cell_type": "markdown",
   "metadata": {},
   "source": [
    "## dtopo file for \"Seattle Fault\" event"
   ]
  },
  {
   "cell_type": "code",
   "execution_count": null,
   "metadata": {},
   "outputs": [],
   "source": [
    "# 6 arcsecond resolution for dtopo file:\n",
    "x = linspace(-122.5, -122.1, 241)\n",
    "y = linspace(47.4, 47.8, 241)\n",
    "print(\"Resolution: %5.2f arcsecond by %5.2f arcsecond\" % ((x[1]-x[0])*3600, (y[1]-y[0])*3600))"
   ]
  },
  {
   "cell_type": "code",
   "execution_count": null,
   "metadata": {},
   "outputs": [],
   "source": [
    "s = dtopotools.SubFault()\n",
    "\n",
    "s.strike = 90.\n",
    "s.dip = 40.\n",
    "s.rake = 90.\n",
    "s.slip = 10.\n",
    "s.latitude = 47.57\n",
    "s.longitude = -122.25\n",
    "s.length = 20e3\n",
    "s.width = 16e3 / cos(s.dip*pi/180.)\n",
    "print('width = %.2f m' % s.width)\n",
    "s.depth = 1.  # meters\n",
    "s.coordinate_specification = 'top center'\n",
    "s.calculate_geometry()\n",
    "f = dtopotools.Fault()\n",
    "f.subfaults = [s]\n",
    "dtopo = f.create_dtopography(x,y,times=[1.]);\n",
    "print('Mw = %6.2f' % f.Mw())"
   ]
  },
  {
   "cell_type": "code",
   "execution_count": null,
   "metadata": {},
   "outputs": [],
   "source": [
    "cmax_dZ = abs(dtopo.dZ).max()\n",
    "dZ_interval = cmax_dZ / 10.\n",
    "print('maximum surface displacement = %.2f m' % cmax_dZ)\n",
    "print('Will plot contours with dZ interval = %.2f m' % dZ_interval)"
   ]
  },
  {
   "cell_type": "code",
   "execution_count": null,
   "metadata": {},
   "outputs": [],
   "source": [
    "xtrans = -122.265\n",
    "jtrans = where(dtopo.x<xtrans)[0].max()\n",
    "\n",
    "figure(figsize=(10,6))\n",
    "ax = subplot(121)\n",
    "contourf(topo_1_3sec.X,topo_1_3sec.Y,topo_1_3sec.Z,[0,1e6],colors=[[.5,1,.5]], alpha=0.3)\n",
    "contour(topo_1_3sec.X,topo_1_3sec.Y,topo_1_3sec.Z,[0],colors='g')\n",
    "f.plot_subfaults(axes=ax)\n",
    "dtopo.plot_dZ_colors(1., axes=ax, cmax_dZ = cmax_dZ, \n",
    "                     dZ_interval=dZ_interval)\n",
    "plot(xtrans*ones(dtopo.Y[:,jtrans].shape), dtopo.Y[:,jtrans], 'k--')\n",
    "text(xtrans+0.01, 47.77, 'transect')\n",
    "axis([-122.5,-122.1,47.4,47.8]);\n",
    "\n",
    "subplot(122)\n",
    "plot(dtopo.Y[:,jtrans], dtopo.dZ[-1,:,jtrans])\n",
    "title('Displacement on transect at longitude x = %7.3f' % (xtrans))\n",
    "xlabel('Latitude')\n",
    "ylabel('Seafloor deformation (m)');"
   ]
  },
  {
   "cell_type": "markdown",
   "metadata": {},
   "source": [
    "### make dtopo file:"
   ]
  },
  {
   "cell_type": "code",
   "execution_count": null,
   "metadata": {
    "collapsed": false
   },
   "outputs": [],
   "source": [
    "fname = 'input_files/SFfaultLakeWA.tt3'\n",
    "dtopo.write(fname, dtopo_type=3)"
   ]
  },
  {
   "cell_type": "markdown",
   "metadata": {},
   "source": [
    "### plot topo on transect:"
   ]
  },
  {
   "cell_type": "code",
   "execution_count": null,
   "metadata": {},
   "outputs": [],
   "source": [
    "jtrans_topo = where(topo_1_3sec.x<xtrans)[0].max()\n",
    "fill_between(topo_1_3sec.Y[:,jtrans_topo], topo_1_3sec.Z[:,jtrans_topo], \n",
    "             -100., color=[.5,1,.6])\n",
    "plot(topo_1_3sec.Y[:,jtrans_topo], topo_1_3sec.Z[:,jtrans_topo], 'g')\n",
    "Zzero = where(topo_1_3sec.Z[:,jtrans_topo]<0, 0, nan)\n",
    "fill_between(topo_1_3sec.Y[:,jtrans_topo], topo_1_3sec.Z[:,jtrans_topo], \n",
    "             Zzero, color=[.6,.6,1])\n",
    "plot(topo_1_3sec.Y[:,jtrans_topo], Zzero, 'b')\n",
    "xlim(47.5, 47.8)"
   ]
  },
  {
   "cell_type": "markdown",
   "metadata": {},
   "source": [
    "## Select fgmax points\n",
    "\n",
    "Convert the boundary xbdry,ybdry between Sound and Lake into a Ruled Rectangle enclosing only the lake:"
   ]
  },
  {
   "cell_type": "code",
   "execution_count": null,
   "metadata": {
    "collapsed": false
   },
   "outputs": [],
   "source": [
    "rr_lake = region_tools.RuledRectangle()\n",
    "rr_lake.s = ybdry\n",
    "rr_lake.lower = xbdry\n",
    "rr_lake.upper = -122.16 * ones(xbdry.shape)\n",
    "rr_lake.ixy = 'y'\n",
    "rr_lake.method = 1\n",
    "rr_lake_x, rr_lake_y = rr_lake.vertices()  # vertices of polygon\n",
    "#rr_lake.write('input_files/RuledRectangle_Lake.data') # make a better one below for AMR"
   ]
  },
  {
   "cell_type": "markdown",
   "metadata": {},
   "source": [
    "Start by selecting points in this ruled rectangle that have elevation below `sea_level_lake` (selecting all points in the lake) and march outward to include a buffer of at least `buffer_width` onshore points regardless of topography:"
   ]
  },
  {
   "cell_type": "code",
   "execution_count": null,
   "metadata": {},
   "outputs": [],
   "source": [
    "topo = topo_1_3sec\n",
    "mask_out = rr_lake.mask_outside(topo.X, topo.Y)\n",
    "buffer_width = 10\n",
    "pts_chosen = marching_front.select_by_flooding(topo.Z, \n",
    "                                               mask=mask_out,\n",
    "                                               Z1=sea_level_lake,\n",
    "                                               Z2=1e6, \n",
    "                                               max_iters=buffer_width) "
   ]
  },
  {
   "cell_type": "markdown",
   "metadata": {},
   "source": [
    "Add all points connected to these with `topo < Zmax`:"
   ]
  },
  {
   "cell_type": "code",
   "execution_count": null,
   "metadata": {},
   "outputs": [],
   "source": [
    "Zmax = 15.\n",
    "pts_chosen = marching_front.select_by_flooding(topo.Z,\n",
    "                                               mask=mask_out,\n",
    "                                               Z1=sea_level_lake, \n",
    "                                               Z2=Zmax, \n",
    "                                               prev_pts_chosen=pts_chosen,\n",
    "                                               max_iters=None) "
   ]
  },
  {
   "cell_type": "code",
   "execution_count": null,
   "metadata": {
    "collapsed": false
   },
   "outputs": [],
   "source": [
    "Zfgmax = ma.masked_array(topo.Z, logical_not(pts_chosen))"
   ]
  },
  {
   "cell_type": "code",
   "execution_count": null,
   "metadata": {},
   "outputs": [],
   "source": [
    "figure(figsize=(6,10))\n",
    "pcolorcells(topo.X, topo.Y, Zfgmax, cmap=cmap, norm=norm)\n",
    "colorbar(extend='both')\n",
    "gca().set_aspect(1./cos(48*pi/180.))\n",
    "plot(rr_lake_x, rr_lake_y, 'k')\n",
    "xlim(-122.45,-122.15)\n",
    "ylim(47.42,47.83);"
   ]
  },
  {
   "cell_type": "code",
   "execution_count": null,
   "metadata": {},
   "outputs": [],
   "source": [
    "fname_fgmax_mask = 'input_files/fgmax_pts_LakeWA.data'\n",
    "topo_fgmax_mask = topotools.Topography()\n",
    "topo_fgmax_mask._x = topo.x\n",
    "topo_fgmax_mask._y = topo.y     \n",
    "topo_fgmax_mask._Z = where(pts_chosen,1,0)\n",
    "topo_fgmax_mask.generate_2d_coordinates()\n",
    "\n",
    "topo_fgmax_mask.write(fname_fgmax_mask, topo_type=3, Z_format='%1i')\n",
    "print('Created %s' % fname_fgmax_mask)"
   ]
  },
  {
   "cell_type": "markdown",
   "metadata": {},
   "source": [
    "## Create an AMR flagregion covering the fgmax points"
   ]
  },
  {
   "cell_type": "code",
   "execution_count": null,
   "metadata": {},
   "outputs": [],
   "source": [
    "rr_fgmax = region_tools.ruledrectangle_covering_selected_points(topo.X, topo.Y, \n",
    "                                                                pts_chosen, \n",
    "                                                                ixy='y', method=0,\n",
    "                                                                padding=0, verbose=True)"
   ]
  },
  {
   "cell_type": "code",
   "execution_count": null,
   "metadata": {},
   "outputs": [],
   "source": [
    "figure(figsize=(12,6))\n",
    "xv,yv = rr_fgmax.vertices()\n",
    "pcolorcells(topo.X, topo.Y, Zfgmax, cmap=cmap, norm=norm)\n",
    "#axis([-122.47, -122.40, 47.925, 47.965])\n",
    "gca().set_aspect(1./cos(48*pi/180.))\n",
    "plot(xv, yv, 'r')\n",
    "title(\"With ixy = 'y'\");"
   ]
  },
  {
   "cell_type": "code",
   "execution_count": null,
   "metadata": {
    "collapsed": false
   },
   "outputs": [],
   "source": [
    "fname_flagregion = 'input_files/RuledRectangle_LakeWA.data'\n",
    "rr_fgmax.write(fname_flagregion)"
   ]
  },
  {
   "cell_type": "markdown",
   "metadata": {},
   "source": [
    "## Make kml files for viewing on Google Earth"
   ]
  },
  {
   "cell_type": "code",
   "execution_count": null,
   "metadata": {},
   "outputs": [],
   "source": [
    "Zfgmax_land = ma.masked_where(Zfgmax<=sea_level_lake, Zfgmax)\n",
    "fig,ax,png_extent,kml_dpi = kmltools.pcolorcells_for_kml(topo.x, topo.y, Zfgmax_land,\n",
    "                                                 png_filename='fgmax_land_for_kml.png',\n",
    "                                                 dpc=2, cmap=cmap, norm=norm)"
   ]
  },
  {
   "cell_type": "code",
   "execution_count": null,
   "metadata": {},
   "outputs": [],
   "source": [
    "Zfgmax_water = ma.masked_where(Zfgmax>sea_level_lake, Zfgmax)\n",
    "fig,ax,png_extent,kml_dpi = kmltools.pcolorcells_for_kml(topo.x, topo.y, Zfgmax_water,\n",
    "                                                 png_filename='fgmax_water_for_kml.png',\n",
    "                                                 dpc=2, cmap=cmap, norm=norm)"
   ]
  },
  {
   "cell_type": "code",
   "execution_count": null,
   "metadata": {},
   "outputs": [],
   "source": [
    "kmltools.png2kml(topo.extent, png_files=['fgmax_land_for_kml.png', 'fgmax_water_for_kml.png'],\n",
    "                 png_names=['fgmax land points','fgmax water points'], \n",
    "                 name='fgmax_points', fname='fgmax_points.kmz')"
   ]
  },
  {
   "cell_type": "code",
   "execution_count": null,
   "metadata": {
    "collapsed": false
   },
   "outputs": [],
   "source": []
  }
 ],
 "metadata": {
  "kernelspec": {
   "display_name": "Python 3",
   "language": "python",
   "name": "python3"
  },
  "language_info": {
   "codemirror_mode": {
    "name": "ipython",
    "version": 3
   },
   "file_extension": ".py",
   "mimetype": "text/x-python",
   "name": "python",
   "nbconvert_exporter": "python",
   "pygments_lexer": "ipython3",
   "version": "3.6.7"
  }
 },
 "nbformat": 4,
 "nbformat_minor": 2
}
