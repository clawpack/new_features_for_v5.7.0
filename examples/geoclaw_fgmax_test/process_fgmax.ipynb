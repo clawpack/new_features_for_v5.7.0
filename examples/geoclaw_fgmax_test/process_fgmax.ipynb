{
 "cells": [
  {
   "cell_type": "code",
   "execution_count": null,
   "metadata": {
    "collapsed": false
   },
   "outputs": [],
   "source": [
    "%matplotlib inline"
   ]
  },
  {
   "cell_type": "code",
   "execution_count": null,
   "metadata": {
    "collapsed": false
   },
   "outputs": [],
   "source": [
    "from pylab import *"
   ]
  },
  {
   "cell_type": "code",
   "execution_count": null,
   "metadata": {
    "collapsed": false
   },
   "outputs": [],
   "source": [
    "import os,sys\n",
    "import glob\n",
    "from importlib import reload\n",
    "from clawpack.geoclaw import topotools, dtopotools\n",
    "from clawpack.visclaw import colormaps\n",
    "from scipy.interpolate import RegularGridInterpolator\n",
    "import matplotlib as mpl\n",
    "from matplotlib import colors"
   ]
  },
  {
   "cell_type": "code",
   "execution_count": null,
   "metadata": {
    "collapsed": false
   },
   "outputs": [],
   "source": [
    "#sys.path.insert(0,'../../new_python')\n",
    "sys.path.insert(0,'/Users/rjl/git/clawpack/new_features_for_v5.7.0/new_python')\n",
    "import region_tools, plottools\n",
    "import fgmax_tools, kmltools\n",
    "#import colormaps"
   ]
  },
  {
   "cell_type": "code",
   "execution_count": null,
   "metadata": {},
   "outputs": [],
   "source": [
    "reload(fgmax_tools)\n",
    "reload(plottools)\n",
    "reload(colormaps)"
   ]
  },
  {
   "cell_type": "code",
   "execution_count": null,
   "metadata": {},
   "outputs": [],
   "source": [
    "outdir = '_output'\n",
    "t_files = glob.glob(outdir + '/fort.t0*')\n",
    "times = []\n",
    "for f in t_files:\n",
    "    lines = open(f,'r').readlines()\n",
    "    for line in lines:\n",
    "        if 'time' in line: \n",
    "            t = float(line.split()[0])\n",
    "    times.append(t)\n",
    "times.sort()\n",
    "print('Output times found: ',times)\n",
    "if len(times) > 0:\n",
    "    t_hours = times[-1] / 3600.\n",
    "    print('\\nfgmax results are presumably from final time: %.1f seconds = %.2f hours'\\\n",
    "          % (times[-1], t_hours))\n",
    "else:\n",
    "    t_hours = nan"
   ]
  },
  {
   "cell_type": "code",
   "execution_count": null,
   "metadata": {},
   "outputs": [],
   "source": [
    "# Read fgmax data:\n",
    "fg = fgmax_tools.FGmaxGrid()\n",
    "fg.read_fgmax_grids_data(1)\n",
    "\n",
    "fg.read_output(outdir=outdir)"
   ]
  },
  {
   "cell_type": "code",
   "execution_count": null,
   "metadata": {
    "scrolled": false
   },
   "outputs": [],
   "source": [
    "zmin = -60.\n",
    "zmax = 20.\n",
    "land_cmap = colormaps.make_colormap({ 0.0:[0.1,0.4,0.0],\n",
    "                                     0.25:[0.0,1.0,0.0],\n",
    "                                      0.5:[0.8,1.0,0.5],\n",
    "                                      1.0:[0.8,0.5,0.2]})\n",
    "\n",
    "sea_cmap = colormaps.make_colormap({ 0.0:[0,0,1], 1.:[.8,.8,1]})\n",
    "\n",
    "cmap, norm = colormaps.add_colormaps((land_cmap, sea_cmap),\n",
    "                                     data_limits=(zmin,zmax),\n",
    "                                     data_break=0.)                                   \n",
    "\n",
    "\n",
    "\n",
    "figure(figsize=(8,8))\n",
    "pc = plottools.pcolorcells(fg.X, fg.Y, fg.B, cmap=cmap, norm=norm)  \n",
    "\n",
    "cb = colorbar(pc,shrink=0.5,extend='both')\n",
    "cb.set_label('meters')\n",
    "cb.set_ticks(hstack((linspace(zmin,0,5), linspace(0,zmax,5))))\n",
    "\n",
    "gca().set_aspect(1./cos(48*pi/180.))\n",
    "ticklabel_format(useOffset=False)\n",
    "xticks(rotation=20);\n",
    "    \n",
    "title('GeoClaw B topography on fg1 grid');"
   ]
  },
  {
   "cell_type": "code",
   "execution_count": null,
   "metadata": {
    "collapsed": false
   },
   "outputs": [],
   "source": [
    "fg.B0 = fg.B  # no seafloor deformation in this problem\n",
    "fg.h_onshore = ma.masked_where(fg.B0 < 0., fg.h)"
   ]
  },
  {
   "cell_type": "code",
   "execution_count": null,
   "metadata": {},
   "outputs": [],
   "source": [
    "bounds_depth = array([1e-6,0.5,1.0,1.5,2,2.5,3.0])\n",
    "\n",
    "\n",
    "cmap_depth = colors.ListedColormap([[.7,.7,1],[.5,.5,1],[0,0,1],\\\n",
    "                 [1,.7,.7], [1,.4,.4], [1,0,0]])\n",
    "\n",
    "# Set color for value exceeding top of range to purple:\n",
    "cmap_depth.set_over(color=[1,0,1])\n",
    "\n",
    "# Set color for land points without inundation to light green:\n",
    "cmap_depth.set_under(color=[.7,1,.7])\n",
    "\n",
    "norm_depth = colors.BoundaryNorm(bounds_depth, cmap_depth.N)\n",
    "    \n",
    "\n",
    "figure(figsize=(8,8))\n",
    "pc = plottools.pcolorcells(fg.X, fg.Y, fg.h_onshore, cmap=cmap_depth, norm=norm_depth)\n",
    "cb = colorbar(pc, extend='max', shrink=0.7)\n",
    "cb.set_label('meters')\n",
    "contour(fg.X, fg.Y, fg.B, [0], colors='g')\n",
    "\n",
    "gca().set_aspect(1./cos(48*pi/180.))\n",
    "ticklabel_format(useOffset=False)\n",
    "xticks(rotation=20)\n",
    "title('Maximum Onshore flow depth over %.2f hours' % t_hours)\n",
    "#savefigp('h_onshore.png')"
   ]
  },
  {
   "cell_type": "code",
   "execution_count": null,
   "metadata": {},
   "outputs": [],
   "source": [
    "bounds_speed = np.array([1e-6,0.5,1.0,1.5,2,2.5,3,4.5,6])\n",
    "cmap_speed = mpl.colors.ListedColormap([[.9,.9,1],[.6,.6,1],\\\n",
    "                 [.3,.3,1],[0,0,1], [1,.8,.8],\\\n",
    "                 [1,.6,.6], [1,.3,.3], [1,0,0]])\n",
    "\n",
    "\n",
    "bounds_speed = np.array([1e-6,0.5,1.0,1.5,2,2.5,3,4.5])\n",
    "cmap_speed = mpl.colors.ListedColormap([[.9,.9,1],[.6,.6,1],\\\n",
    "                 [.3,.3,1],[0,0,1], [1,.8,.8],\\\n",
    "                 [1,.6,.6], [1,0,0]])\n",
    "\n",
    "# Set color for value exceeding top of range to purple:\n",
    "cmap_speed.set_over(color=[1,0,1])\n",
    "\n",
    "# Set color for land points without inundation to light green:\n",
    "cmap_speed.set_under(color=[.7,1,.7])\n",
    "\n",
    "norm_speed = colors.BoundaryNorm(bounds_speed, cmap_speed.N)\n",
    "\n",
    "figure(figsize=(8,8))\n",
    "pc = plottools.pcolorcells(fg.X, fg.Y, fg.s, cmap=cmap_speed, norm=norm_speed)\n",
    "cb = colorbar(pc, extend='max', shrink=0.7)\n",
    "cb.set_label('m/s')\n",
    "contour(fg.X, fg.Y, fg.B0, [0], colors='g')\n",
    "\n",
    "gca().set_aspect(1./cos(48*pi/180.))\n",
    "ticklabel_format(useOffset=False)\n",
    "xticks(rotation=20)\n",
    "title('Maximum speed over %.2f hours' % t_hours)\n",
    "#savefigp('speed.png')"
   ]
  },
  {
   "cell_type": "markdown",
   "metadata": {},
   "source": [
    "Save this so we can plot the topo below..."
   ]
  },
  {
   "cell_type": "code",
   "execution_count": null,
   "metadata": {
    "collapsed": false
   },
   "outputs": [],
   "source": [
    "import copy\n",
    "fg1 = copy.copy(fg)"
   ]
  },
  {
   "cell_type": "markdown",
   "metadata": {},
   "source": [
    "## Read fgmax values specified on a Transect"
   ]
  },
  {
   "cell_type": "code",
   "execution_count": null,
   "metadata": {
    "scrolled": false
   },
   "outputs": [],
   "source": [
    "# Read fgmax data:\n",
    "fg = fgmax_tools.FGmaxGrid()\n",
    "fg.read_fgmax_grids_data(2)\n",
    "fg.read_output(outdir=outdir)\n",
    "xx = fg.X\n",
    "yy = fg.Y"
   ]
  },
  {
   "cell_type": "code",
   "execution_count": null,
   "metadata": {},
   "outputs": [],
   "source": [
    "figure(figsize=(8,8))\n",
    "pc = plottools.pcolorcells(fg1.X, fg1.Y, fg1.B, cmap=cmap, norm=norm)  \n",
    "\n",
    "cb = colorbar(pc,shrink=0.5,extend='both')\n",
    "cb.set_label('meters')\n",
    "cb.set_ticks(hstack((linspace(zmin,0,5), linspace(0,zmax,5))))\n",
    "\n",
    "gca().set_aspect(1./cos(48*pi/180.))\n",
    "ticklabel_format(useOffset=False)\n",
    "xticks(rotation=20);\n",
    "    \n",
    "plot(xx,yy,'r')\n",
    "title('GeoClaw B topography values on fg1 grid\\n with transect from fg2');"
   ]
  },
  {
   "cell_type": "code",
   "execution_count": null,
   "metadata": {},
   "outputs": [],
   "source": [
    "figure(figsize=(12,4))\n",
    "fill_between(xx, fg.B, fg.B+fg.h, color=[.5,.5,1])\n",
    "plot(xx,fg.B+fg.h,'b')\n",
    "plot(xx,fg.B,'g')\n",
    "plot(xx, ma.masked_where(fg.B>0, 0*xx), 'k')\n",
    "grid(True)\n",
    "ylim(-10,20);"
   ]
  },
  {
   "cell_type": "markdown",
   "metadata": {},
   "source": [
    "## Read fgmax points as specified on a masked grid"
   ]
  },
  {
   "cell_type": "code",
   "execution_count": null,
   "metadata": {},
   "outputs": [],
   "source": [
    "fg = fgmax_tools.FGmaxGrid()\n",
    "fg.read_fgmax_grids_data(3)\n",
    "\n",
    "fg.read_output(outdir=outdir)"
   ]
  },
  {
   "cell_type": "code",
   "execution_count": null,
   "metadata": {},
   "outputs": [],
   "source": [
    "fg.B0 = fg.B  # no seafloor deformation in this problem\n",
    "fg.h_onshore = ma.masked_where(fg.B0 < 0., fg.h)"
   ]
  },
  {
   "cell_type": "code",
   "execution_count": null,
   "metadata": {},
   "outputs": [],
   "source": [
    "figure(figsize=(8,8))\n",
    "pc = plottools.pcolorcells(fg.X, fg.Y, fg.B, cmap=cmap, norm=norm)\n",
    "cb = colorbar(pc, extend='both', shrink=0.7)\n",
    "cb.set_label('meters')\n",
    "cb.set_ticks(hstack((linspace(zmin,0,5), linspace(0,zmax,5))))\n",
    "\n",
    "gca().set_aspect(1./cos(48*pi/180.))\n",
    "ticklabel_format(useOffset=False)\n",
    "xticks(rotation=20)\n",
    "title('GeoClaw B at points selected as fgmax grid')"
   ]
  },
  {
   "cell_type": "code",
   "execution_count": null,
   "metadata": {},
   "outputs": [],
   "source": [
    "figure(figsize=(8,8))\n",
    "pc = plottools.pcolorcells(fg.X, fg.Y, fg.h_onshore, cmap=cmap_depth, norm=norm_depth)\n",
    "cb = colorbar(pc, extend='max', shrink=0.7)\n",
    "cb.set_label('meters')\n",
    "contour(fg.X, fg.Y, fg.B0, [0], colors='g')\n",
    "\n",
    "gca().set_aspect(1./cos(48*pi/180.))\n",
    "ticklabel_format(useOffset=False)\n",
    "xticks(rotation=20)\n",
    "title('Maximum Onshore flow depth over %.2f hours' % t_hours);"
   ]
  },
  {
   "cell_type": "code",
   "execution_count": null,
   "metadata": {},
   "outputs": [],
   "source": [
    "figure(figsize=(8,8))\n",
    "pc = plottools.pcolorcells(fg.X, fg.Y, fg.s, cmap=cmap_speed, norm=norm_speed)\n",
    "cb = colorbar(pc, extend='max', shrink=0.7)\n",
    "cb.set_label('m/s')\n",
    "contour(fg.X, fg.Y, fg.B0, [0], colors='g')\n",
    "\n",
    "gca().set_aspect(1./cos(48*pi/180.))\n",
    "ticklabel_format(useOffset=False)\n",
    "xticks(rotation=20)\n",
    "title('Maximum speed over %.2f hours' % t_hours);"
   ]
  },
  {
   "cell_type": "markdown",
   "metadata": {},
   "source": [
    "### View fgmax points selected\n",
    "\n",
    "This isn't generally needed, but if you want to inspect the file that specified fgmax points originally:"
   ]
  },
  {
   "cell_type": "code",
   "execution_count": null,
   "metadata": {},
   "outputs": [],
   "source": [
    "fg3input = topotools.Topography(path=fg.xy_fname, topo_type=3)\n",
    "fg3input.X.shape\n",
    "\n",
    "figure(figsize=(8,8))\n",
    "pc = plottools.pcolorcells(fg3input.X, fg3input.Y, fg3input.Z)\n",
    "cb = colorbar(pc, shrink=0.7)\n",
    "\n",
    "gca().set_aspect(1./cos(48*pi/180.))\n",
    "ticklabel_format(useOffset=False)\n",
    "xticks(rotation=20);"
   ]
  },
  {
   "cell_type": "markdown",
   "metadata": {},
   "source": [
    "## Read points with `point_style == 0`"
   ]
  },
  {
   "cell_type": "code",
   "execution_count": null,
   "metadata": {},
   "outputs": [],
   "source": [
    "reload(fgmax_tools)"
   ]
  },
  {
   "cell_type": "code",
   "execution_count": null,
   "metadata": {},
   "outputs": [],
   "source": [
    "# Read fgmax data:\n",
    "fg = fgmax_tools.FGmaxGrid()\n",
    "fg.read_fgmax_grids_data(4)\n",
    "\n",
    "fg.read_output(outdir=outdir)\n",
    "print('\\n      x          y       max depth')\n",
    "for j in range(fg.npts):\n",
    "    print('%10.3f %10.3f %10.3f'  % (fg.X[j], fg.Y[j], fg.h[j]))"
   ]
  },
  {
   "cell_type": "code",
   "execution_count": null,
   "metadata": {},
   "outputs": [],
   "source": [
    "# Read fgmax data:\n",
    "fg = fgmax_tools.FGmaxGrid()\n",
    "fg.read_fgmax_grids_data(5)\n",
    "\n",
    "fg.read_output(outdir=outdir)\n",
    "print('\\n      x          y       max speed')\n",
    "for j in range(fg.npts):\n",
    "    print('%10.3f %10.3f %10.3f'  % (fg.X[j], fg.Y[j], fg.s[j]))"
   ]
  },
  {
   "cell_type": "code",
   "execution_count": null,
   "metadata": {
    "collapsed": false
   },
   "outputs": [],
   "source": []
  }
 ],
 "metadata": {
  "kernelspec": {
   "display_name": "Python 3",
   "language": "python",
   "name": "python3"
  },
  "language_info": {
   "codemirror_mode": {
    "name": "ipython",
    "version": 3
   },
   "file_extension": ".py",
   "mimetype": "text/x-python",
   "name": "python",
   "nbconvert_exporter": "python",
   "pygments_lexer": "ipython3",
   "version": "3.6.7"
  }
 },
 "nbformat": 4,
 "nbformat_minor": 2
}
