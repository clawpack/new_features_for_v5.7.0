{
 "cells": [
  {
   "cell_type": "markdown",
   "metadata": {},
   "source": [
    "# Process fgmax grid results and plot\n",
    "\n",
    "To process fgmax results after doing a run."
   ]
  },
  {
   "cell_type": "code",
   "execution_count": null,
   "metadata": {
    "collapsed": false,
    "tags": [
     "hide-py"
    ]
   },
   "outputs": [],
   "source": [
    "%matplotlib inline"
   ]
  },
  {
   "cell_type": "code",
   "execution_count": null,
   "metadata": {
    "collapsed": false
   },
   "outputs": [],
   "source": [
    "from pylab import *"
   ]
  },
  {
   "cell_type": "code",
   "execution_count": null,
   "metadata": {
    "collapsed": false
   },
   "outputs": [],
   "source": [
    "import os,sys\n",
    "import glob\n",
    "from importlib import reload\n",
    "from clawpack.geoclaw import topotools, dtopotools\n",
    "from clawpack.visclaw import colormaps\n",
    "from scipy.interpolate import RegularGridInterpolator\n",
    "import matplotlib as mpl\n",
    "from matplotlib import colors"
   ]
  },
  {
   "cell_type": "code",
   "execution_count": null,
   "metadata": {
    "collapsed": false
   },
   "outputs": [],
   "source": [
    "sys.path.insert(0,'../../new_python')\n",
    "import region_tools, plottools\n",
    "import fgmax_tools, fgmax_routines, kmltools"
   ]
  },
  {
   "cell_type": "markdown",
   "metadata": {},
   "source": [
    "## Set some things...\n",
    "\n",
    "Specify the directory to read results from, and some other settings:"
   ]
  },
  {
   "cell_type": "code",
   "execution_count": null,
   "metadata": {},
   "outputs": [],
   "source": [
    "save_figs = False              # make png files for figures?\n",
    "make_new_fgmax_nc_file = True  # make new netcdf file of fgmax results (possibly overwrites)?\n",
    "\n",
    "rundir = os.path.abspath('.')\n",
    "outdir = os.path.join(rundir, '_output') \n",
    "\n",
    "print('Will read fgmax results from outdir = \\n  ', outdir)"
   ]
  },
  {
   "cell_type": "code",
   "execution_count": null,
   "metadata": {
    "collapsed": false
   },
   "outputs": [],
   "source": [
    "use_force_dry = True\n",
    "if use_force_dry:\n",
    "    fname_force_dry = os.path.join(rundir, 'input_files', 'force_dry_init.data')\n",
    "    \n",
    "adjust_by_dz = True\n",
    "if adjust_by_dz:\n",
    "    dtopo_path = os.path.join(rundir, 'input_files', 'seattlefault_uniform.tt3')"
   ]
  },
  {
   "cell_type": "code",
   "execution_count": null,
   "metadata": {
    "collapsed": false
   },
   "outputs": [],
   "source": [
    "def savefigp(fname):\n",
    "    global save_figs\n",
    "    if save_figs:\n",
    "        savefig(fname)\n",
    "        print('Created ', fname)\n",
    "    else:\n",
    "        print('save_figs = False')"
   ]
  },
  {
   "cell_type": "markdown",
   "metadata": {},
   "source": [
    "## Read in and process the fgmax results from the latest run\n"
   ]
  },
  {
   "cell_type": "code",
   "execution_count": null,
   "metadata": {},
   "outputs": [],
   "source": [
    "t_files = glob.glob(outdir + '/fort.t0*')\n",
    "times = []\n",
    "for f in t_files:\n",
    "    lines = open(f,'r').readlines()\n",
    "    for line in lines:\n",
    "        if 'time' in line: \n",
    "            t = float(line.split()[0])\n",
    "    times.append(t)\n",
    "times.sort()\n",
    "print('Output times found: ',times)\n",
    "if len(times) > 0:\n",
    "    t_hours = times[-1] / 3600.\n",
    "    print('\\nfgmax results are presumably from final time: %.1f seconds = %.2f hours'\\\n",
    "          % (times[-1], t_hours))\n",
    "else:\n",
    "    t_hours = nan"
   ]
  },
  {
   "cell_type": "code",
   "execution_count": null,
   "metadata": {},
   "outputs": [],
   "source": [
    "# Read fgmax data:\n",
    "fg = fgmax_tools.FGmaxGrid()\n",
    "fgmax_input_file_name = outdir + '/fgmax_header.data'\n",
    "print('fgmax input file: \\n  %s' % fgmax_input_file_name)\n",
    "fg.read_input_data(fgmax_input_file_name)\n",
    "\n",
    "fg.read_output(outdir=outdir)\n",
    "xx = fg.X\n",
    "yy = fg.Y"
   ]
  },
  {
   "cell_type": "code",
   "execution_count": null,
   "metadata": {
    "scrolled": false
   },
   "outputs": [],
   "source": [
    "# convert to masked array on uniform grid for .nc file and plots:\n",
    "\n",
    "fgm = fgmax_tools.FGmaxMaskedGrid()\n",
    "dx = dy = 1./(3*3600.)  # For 1/3 arcsecond fgmax grid\n",
    "\n",
    "# convert to arrays and create fgm.X etc.\n",
    "fgm.convert_lists_to_arrays(fg,dx,dy) \n",
    "\n",
    "# 1d versions of X and Y arrays:\n",
    "fgm.x = fgm.X[0,:]\n",
    "fgm.y = fgm.Y[:,0]"
   ]
  },
  {
   "cell_type": "code",
   "execution_count": null,
   "metadata": {},
   "outputs": [],
   "source": [
    "# compute subsidence/uplift at each fgmax point:\n",
    "\n",
    "if adjust_by_dz:\n",
    "    dtopo = dtopotools.DTopography()\n",
    "    dtopo.read(dtopo_path, dtopo_type=3)\n",
    "    x1d = dtopo.X[0,:]\n",
    "    y1d = dtopo.Y[:,0]\n",
    "    dtopo_func = RegularGridInterpolator((x1d,y1d), dtopo.dZ[-1,:,:].T, \n",
    "                    method='linear', bounds_error=False, fill_value=0.)\n",
    "    dz = dtopo_func(list(zip(ravel(fgm.X), ravel(fgm.Y))))\n",
    "    fgm.dz = reshape(dz, fgm.X.shape)\n",
    "    print('Over fgmax extent, min(dz) = %.2f m, max(dz) = %.2f m' \\\n",
    "         % (dz.min(), dz.max()))\n",
    "else:\n",
    "    fgm.dz = zeros(fgm.X.shape)\n",
    "\n",
    "fgm.B0 = fgm.B - fgm.dz   # original topo before subsidence/uplift"
   ]
  },
  {
   "cell_type": "code",
   "execution_count": null,
   "metadata": {},
   "outputs": [],
   "source": [
    "if use_force_dry:\n",
    "    print('Reading force_dry from ',fname_force_dry)\n",
    "    force_dry = topotools.Topography()\n",
    "    force_dry.read(fname_force_dry, topo_type=3)\n",
    "    i1 = int(round((fgm.x[0]-force_dry.x[0])/dx))\n",
    "    i2 = int(round((fgm.x[-1]-force_dry.x[0])/dx))\n",
    "    j1 = int(round((fgm.y[0]-force_dry.y[0])/dy))\n",
    "    j2 = int(round((fgm.y[-1]-force_dry.y[0])/dy))\n",
    "    if (i1<0) or (i2-i1+1 != len(fgm.x)) or \\\n",
    "       (j1<0) or (j2-j1+1 != len(fgm.y)):\n",
    "        print('*** force_dry does not cover fgm extent, not using')\n",
    "        use_force_dry = False\n",
    "        fgm.force_dry_init = None\n",
    "    else:\n",
    "        fgm.force_dry_init = force_dry.Z[j1:j2+1, i1:i2+1]\n",
    "else:\n",
    "    fgm.force_dry_init = None\n",
    "    print('*** use_force_dry is False')\n",
    "\n",
    "if fgm.force_dry_init is not None:\n",
    "    fgm.h_onshore = ma.masked_where(fgm.force_dry_init==0, fgm.h)\n",
    "else:\n",
    "    fgm.h_onshore = ma.masked_where(fgm.B0 < 0., fgm.h)"
   ]
  },
  {
   "cell_type": "code",
   "execution_count": null,
   "metadata": {},
   "outputs": [],
   "source": [
    "print('Number of fgmax points: ', fgm.h.count())"
   ]
  },
  {
   "cell_type": "code",
   "execution_count": null,
   "metadata": {},
   "outputs": [],
   "source": [
    "zmin = -60.\n",
    "zmax = 40.\n",
    "land_cmap = colormaps.make_colormap({ 0.0:[0.1,0.4,0.0],\n",
    "                                     0.25:[0.0,1.0,0.0],\n",
    "                                      0.5:[0.8,1.0,0.5],\n",
    "                                      1.0:[0.8,0.5,0.2]})\n",
    "\n",
    "sea_cmap = colormaps.make_colormap({ 0.0:[0,0,1], 1.:[.8,.8,1]})\n",
    "\n",
    "cmap, norm = colormaps.add_colormaps((land_cmap, sea_cmap),\n",
    "                                     data_limits=(zmin,zmax),\n",
    "                                     data_break=0.)                                   \n",
    "\n",
    "def plotZ(Z, show_cb=True):\n",
    "    pc = plottools.pcolorcells(fgm.X, fgm.Y, Z, cmap=cmap, norm=norm)  \n",
    "    if show_cb:\n",
    "        cb = colorbar(pc,shrink=0.5)\n",
    "        cb.set_label('meters')\n",
    "    #axis([-122.76,-122.525,47.95,48.2])\n",
    "    gca().set_aspect(1./cos(48*pi/180.))\n",
    "    ticklabel_format(useOffset=False)\n",
    "    xticks(rotation=20);\n",
    "    \n",
    "figure(figsize=(10,6))\n",
    "subplot(121)\n",
    "plotZ(fgm.B, show_cb=False)\n",
    "title('GeoClaw B');\n",
    "\n",
    "if fgm.force_dry_init is not None:\n",
    "    print('Found force_dry_init array')\n",
    "    subplot(122)\n",
    "    mask_all_but_dryneg = logical_or(logical_or(fgm.B.mask, \n",
    "                                                logical_not(fgm.force_dry_init)), \n",
    "                                     fgm.B0>0)\n",
    "    B_dryneg = ma.masked_array(fgm.B.data, mask=mask_all_but_dryneg)\n",
    "    plotZ(fgm.B, show_cb=False)\n",
    "    \n",
    "    sea_cmap_dry = colormaps.make_colormap({ 0.0:[1.0,0.6,0.6], 1.:[1.0,0.6,0.6]})\n",
    "    cmap_dry, norm_dry = colormaps.add_colormaps((land_cmap, sea_cmap_dry),\n",
    "                                         data_limits=(zmin,zmax),\n",
    "                                         data_break=0.)\n",
    "    B0_dryneg = ma.masked_array(fgm.B0.data, mask=mask_all_but_dryneg)\n",
    "    plottools.pcolorcells(fgm.X, fgm.Y, B0_dryneg, cmap=cmap_dry, norm=norm_dry)\n",
    "    title('B0, with dry regions below MHW pink')\n",
    "    savefigp('geoclaw_topo_and_dry.png')\n",
    "else:\n",
    "    print('No force_dry_init array')"
   ]
  },
  {
   "cell_type": "markdown",
   "metadata": {},
   "source": [
    "In the plot above, \"GeoClaw B\" refers to the cell-averaged topography value used by GeoClaw and stored with the fgmax output, and is generally recorded after any subsidence/uplift.  The colors are blues for values of $B < 0$ and greens/brown for $B > 0$.  If there's a plot on the right, it shows as pink any areas that were initialized as dry in spite of having $B_0 < 0$, where $B_0$ is the initial topography ($B$ corrected by $dz$)."
   ]
  },
  {
   "cell_type": "markdown",
   "metadata": {},
   "source": [
    "## Plot maximum flow depth"
   ]
  },
  {
   "cell_type": "code",
   "execution_count": null,
   "metadata": {},
   "outputs": [],
   "source": [
    "bounds_depth = array([1e-6,0.25,0.5,0.75,1,1.25,1.5])\n",
    "#bounds_depth = array([1e-6,0.5,1.0,1.5,2,2.5,3.0])\n",
    "\n",
    "\n",
    "cmap_depth = colors.ListedColormap([[.7,.7,1],[.5,.5,1],[0,0,1],\\\n",
    "                 [1,.7,.7], [1,.4,.4], [1,0,0]])\n",
    "\n",
    "# Set color for value exceeding top of range to purple:\n",
    "cmap_depth.set_over(color=[1,0,1])\n",
    "\n",
    "# Set color for land points without inundation to light green:\n",
    "cmap_depth.set_under(color=[.7,1,.7])\n",
    "\n",
    "norm_depth = colors.BoundaryNorm(bounds_depth, cmap_depth.N)\n",
    "    \n",
    "\n",
    "figure(figsize=(8,8))\n",
    "pc = plottools.pcolorcells(fgm.X, fgm.Y, fgm.h_onshore, cmap=cmap_depth, norm=norm_depth)\n",
    "cb = colorbar(pc, extend='max', shrink=0.7)\n",
    "cb.set_label('meters')\n",
    "contour(fgm.X, fgm.Y, fgm.B0, [0], colors='g')\n",
    "\n",
    "gca().set_aspect(1./cos(48*pi/180.))\n",
    "ticklabel_format(useOffset=False)\n",
    "xticks(rotation=20)\n",
    "title('Maximum flow depth over %.2f hours' % t_hours)\n",
    "savefigp('h_onshore.png')"
   ]
  },
  {
   "cell_type": "markdown",
   "metadata": {},
   "source": [
    "In the plot above, green shows fgmax points that never got wet.  The green contour shows `B0 = 0`, and note that some of the initially dry region below MHW never got wet (over the limited duration of this simulation).\n",
    "\n",
    "White areas are masked out either because they were not fgmax points or because they were initially wet. \n",
    "\n",
    "Regions colored blue or red are initially dry fgmax points that did get wet during the tsunami, with color showing the maximum depth of water recorded."
   ]
  },
  {
   "cell_type": "markdown",
   "metadata": {},
   "source": [
    "## Plot maximum speed"
   ]
  },
  {
   "cell_type": "code",
   "execution_count": null,
   "metadata": {},
   "outputs": [],
   "source": [
    "bounds_speed = np.array([1e-6,0.5,1.0,1.5,2,2.5,3,4.5,6])\n",
    "cmap_speed = mpl.colors.ListedColormap([[.9,.9,1],[.6,.6,1],\\\n",
    "                 [.3,.3,1],[0,0,1], [1,.8,.8],\\\n",
    "                 [1,.6,.6], [1,.3,.3], [1,0,0]])\n",
    "\n",
    "# Set color for value exceeding top of range to purple:\n",
    "cmap_speed.set_over(color=[1,0,1])\n",
    "\n",
    "# Set color for land points without inundation to light green:\n",
    "cmap_speed.set_under(color=[.7,1,.7])\n",
    "\n",
    "norm_speed = colors.BoundaryNorm(bounds_speed, cmap_speed.N)\n",
    "\n",
    "figure(figsize=(8,8))\n",
    "pc = plottools.pcolorcells(fgm.X, fgm.Y, fgm.s, cmap=cmap_speed, norm=norm_speed)\n",
    "cb = colorbar(pc, extend='max', shrink=0.7)\n",
    "cb.set_label('m/s')\n",
    "contour(fgm.X, fgm.Y, fgm.B0, [0], colors='g')\n",
    "\n",
    "gca().set_aspect(1./cos(48*pi/180.))\n",
    "ticklabel_format(useOffset=False)\n",
    "xticks(rotation=20)\n",
    "title('Maximum speed over %.2f hours' % t_hours)\n",
    "savefigp('speed.png')"
   ]
  },
  {
   "cell_type": "markdown",
   "metadata": {},
   "source": [
    "The plot above shows the maximum speed at each fgmax point. The points colored green remained dry over this simulation. The green contour shows `B0 = 0`.\n",
    "\n",
    "White areas are masked out because they were not fgmax points. Regions colored blue or red are either offshore (initially wet) or onshore points that got wet, colored by the maximum water speed $s = \\sqrt{u^2 + v^2}$ over the simulation. "
   ]
  },
  {
   "cell_type": "markdown",
   "metadata": {},
   "source": [
    "## Plots for Google Earth overlays\n",
    "\n",
    "Tne new version of `kmltools` includes some tools to make png files that display properly on Google Earth.  The png files have no axes and have the dimension and dpi set properly so that there is an integer number of pixels in each grid cell so cell edges are sharp when zooming in.\n",
    "\n",
    "We make three png files and then make a kml file that can be used to open all three."
   ]
  },
  {
   "cell_type": "code",
   "execution_count": null,
   "metadata": {},
   "outputs": [],
   "source": [
    "kml_dir = 'fgmax_results_kmlfiles'\n",
    "os.system('mkdir -p %s' % kml_dir)\n",
    "print('Will put png and kml files in %s' % kml_dir)"
   ]
  },
  {
   "cell_type": "code",
   "execution_count": null,
   "metadata": {},
   "outputs": [],
   "source": [
    "h_wet_onshore = ma.masked_where(fgm.h_onshore==0., fgm.h_onshore)\n",
    "png_filename=kml_dir+'/h_onshore_max_for_kml.png'\n",
    "fig,ax,png_extent,kml_dpi = kmltools.pcolorcells_for_kml(fgm.x, fgm.y, h_wet_onshore,\n",
    "                                                 png_filename=png_filename,\n",
    "                                                 dpc=2, cmap=cmap_depth, norm=norm_depth)"
   ]
  },
  {
   "cell_type": "code",
   "execution_count": null,
   "metadata": {},
   "outputs": [],
   "source": [
    "speed = ma.masked_where(fgm.h==0., fgm.s)\n",
    "png_filename = '%s/speed_max_for_kml.png' % kml_dir\n",
    "fig,ax,png_extent,kml_dpi = kmltools.pcolorcells_for_kml(fgm.x, fgm.y, speed, \n",
    "                                                 png_filename=png_filename,\n",
    "                                                 dpc=2, cmap=cmap_speed, norm=norm_speed)"
   ]
  },
  {
   "cell_type": "code",
   "execution_count": null,
   "metadata": {},
   "outputs": [],
   "source": [
    "stays_dry = ma.masked_where(fgm.h>0., fgm.h)\n",
    "png_filename = '%s/stays_dry_for_kml.png' % kml_dir\n",
    "fig,ax,png_extent,kml_dpi = kmltools.pcolorcells_for_kml(fgm.x, fgm.y, stays_dry, \n",
    "                                                 png_filename=png_filename,\n",
    "                                                 dpc=2, cmap=cmap_speed, norm=norm_speed)"
   ]
  },
  {
   "cell_type": "markdown",
   "metadata": {},
   "source": [
    "### Make the kml file to display these three png files\n",
    "\n",
    "Then you can open `fgmax_results_kmlfiles/fgmax_results.kml` in Google Earth to view them."
   ]
  },
  {
   "cell_type": "code",
   "execution_count": null,
   "metadata": {},
   "outputs": [],
   "source": [
    "png_files=['h_onshore_max_for_kml.png', 'speed_max_for_kml.png','stays_dry_for_kml.png']\n",
    "png_names=['max depth onshore','max speed','stays dry']\n",
    "\n",
    "kmltools.png2kml(png_extent, png_files=png_files, png_names=png_names, \n",
    "                 name='fgmax_results',\n",
    "                 fname='%s/fgmax_results.kml' % kml_dir,\n",
    "                 radio_style=False)\n",
    "\n",
    "print('Contents of %s:' % kml_dir)\n",
    "for f in glob.glob('%s/*' % kml_dir):\n",
    "    print('    ',f)"
   ]
  },
  {
   "cell_type": "code",
   "execution_count": null,
   "metadata": {
    "collapsed": false
   },
   "outputs": [],
   "source": []
  }
 ],
 "metadata": {
  "kernelspec": {
   "display_name": "Python 3",
   "language": "python",
   "name": "python3"
  },
  "language_info": {
   "codemirror_mode": {
    "name": "ipython",
    "version": 3
   },
   "file_extension": ".py",
   "mimetype": "text/x-python",
   "name": "python",
   "nbconvert_exporter": "python",
   "pygments_lexer": "ipython3",
   "version": "3.6.2"
  }
 },
 "nbformat": 4,
 "nbformat_minor": 2
}
