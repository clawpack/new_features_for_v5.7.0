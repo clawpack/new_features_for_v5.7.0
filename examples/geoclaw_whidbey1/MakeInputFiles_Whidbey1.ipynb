{
 "cells": [
  {
   "cell_type": "markdown",
   "metadata": {},
   "source": [
    "# Make Input Files for Whidbey1 Test Problem"
   ]
  },
  {
   "cell_type": "code",
   "execution_count": null,
   "metadata": {},
   "outputs": [],
   "source": [
    "%matplotlib inline"
   ]
  },
  {
   "cell_type": "code",
   "execution_count": null,
   "metadata": {},
   "outputs": [],
   "source": [
    "from pylab import *\n",
    "from IPython.display import Image\n",
    "import os,sys\n",
    "from clawpack.visclaw import colormaps\n",
    "from clawpack.geoclaw import dtopotools"
   ]
  },
  {
   "cell_type": "code",
   "execution_count": null,
   "metadata": {},
   "outputs": [],
   "source": [
    "sys.path.insert(0,'../../new_python')\n",
    "import region_tools, topotools, marching_front\n",
    "from plottools import pcolorcells"
   ]
  },
  {
   "cell_type": "code",
   "execution_count": null,
   "metadata": {},
   "outputs": [],
   "source": [
    "zmin = -60.\n",
    "zmax = 40.\n",
    "\n",
    "land_cmap = colormaps.make_colormap({ 0.0:[0.1,0.4,0.0],\n",
    "                                     0.25:[0.0,1.0,0.0],\n",
    "                                      0.5:[0.8,1.0,0.5],\n",
    "                                      1.0:[0.8,0.5,0.2]})\n",
    "\n",
    "sea_cmap = colormaps.make_colormap({ 0.0:[0,0,1], 1.:[.8,.8,1]})\n",
    "\n",
    "cmap, norm = colormaps.add_colormaps((land_cmap, sea_cmap),\n",
    "                                     data_limits=(zmin,zmax),\n",
    "                                     data_break=0.)\n",
    "                                     \n",
    "sea_cmap_dry = colormaps.make_colormap({ 0.0:[1.0,0.7,0.7], 1.:[1.0,0.7,0.7]})\n",
    "cmap_dry, norm_dry = colormaps.add_colormaps((land_cmap, sea_cmap_dry),\n",
    "                                     data_limits=(zmin,zmax),\n",
    "                                     data_break=0.)"
   ]
  },
  {
   "cell_type": "markdown",
   "metadata": {},
   "source": [
    "## Download topo\n",
    "\n",
    "Topo data for this test problem is taken from the 1/3 arcsecond Puget Sound DEM referenced to MHW, available on the NCEI thredds server.\n",
    "\n",
    "First we download data for the full domain at 2\" resolution by coarsening the 1/3\" data:"
   ]
  },
  {
   "cell_type": "code",
   "execution_count": null,
   "metadata": {
    "collapsed": false
   },
   "outputs": [],
   "source": [
    "try:\n",
    "    # recommended approach: read topo directly from NCEI thredds server:\n",
    "    extent = [-123, -122.2, 47.2, 48.2]\n",
    "    path = 'https://www.ngdc.noaa.gov/thredds/dodsC/regional/puget_sound_13_mhw_2014.nc'\n",
    "    topo_2sec = topotools.read_netcdf(path, extent=extent, coarsen=6, verbose=True)\n",
    "except:\n",
    "    # in case that fails:\n",
    "    from clawpack.clawutil.data import get_remote_file\n",
    "    print('Reading from thredds server failed, instead read cached version from geoclaw...')\n",
    "    remote_topo_dir = 'http://depts.washington.edu/clawpack/geoclaw/topo/new_features_for_v5.7.0'\n",
    "    fname = 'topo_2sec.tt3'\n",
    "    path = os.path.join(remote_topo_dir, fname)\n",
    "    get_remote_file(path, output_dir='input_files', file_name=fname, \n",
    "                    verbose=True)\n",
    "    topo_2sec = topotools.Topography()\n",
    "    topo_2sec.read(os.path.join('input_files',fname))"
   ]
  },
  {
   "cell_type": "code",
   "execution_count": null,
   "metadata": {
    "collapsed": false
   },
   "outputs": [],
   "source": [
    "figure(figsize=(12,8))\n",
    "ax = axes()\n",
    "topo_2sec.plot(axes=ax)"
   ]
  },
  {
   "cell_type": "markdown",
   "metadata": {},
   "source": [
    "Also download topo data over the small region of interest at full 1/3\" resolution:"
   ]
  },
  {
   "cell_type": "code",
   "execution_count": null,
   "metadata": {
    "collapsed": false
   },
   "outputs": [],
   "source": [
    "try:\n",
    "    # recommended approach: read topo directly from NCEI thredds server:\n",
    "    extent = [-122.46, -122.38, 47.93, 47.96]\n",
    "    path = 'https://www.ngdc.noaa.gov/thredds/dodsC/regional/puget_sound_13_mhw_2014.nc'\n",
    "    topo_1_3sec = topotools.read_netcdf(path, extent=extent, verbose=True)\n",
    "except:\n",
    "    # in case that fails:\n",
    "    from clawpack.clawutil.data import get_remote_file\n",
    "    print('Reading from thredds server failed, instead read cached version from geoclaw...')\n",
    "    remote_topo_dir = 'http://depts.washington.edu/clawpack/geoclaw/topo/new_features_for_v5.7.0'\n",
    "    fname = 'topo_1_3sec.tt3'\n",
    "    path = os.path.join(remote_topo_dir, fname)\n",
    "    get_remote_file(path, output_dir='input_files', file_name=fname, \n",
    "                    verbose=True)\n",
    "    topo_1_3sec = topotools.Topography()\n",
    "    topo_1_3sec.read(os.path.join('input_files',fname))"
   ]
  },
  {
   "cell_type": "code",
   "execution_count": null,
   "metadata": {
    "collapsed": false
   },
   "outputs": [],
   "source": [
    "figure(figsize=(12,8))\n",
    "ax = axes()\n",
    "topo_1_3sec.plot(axes=ax)"
   ]
  },
  {
   "cell_type": "markdown",
   "metadata": {},
   "source": [
    "Save the topofiles for use in GeoClaw:"
   ]
  },
  {
   "cell_type": "code",
   "execution_count": null,
   "metadata": {
    "collapsed": false
   },
   "outputs": [],
   "source": [
    "fname = 'input_files/topo_2sec.tt3'\n",
    "topo_2sec.write(fname, topo_type=3)\n",
    "\n",
    "fname = 'input_files/topo_1_3sec.tt3'\n",
    "topo_1_3sec.write(fname, topo_type=3)"
   ]
  },
  {
   "cell_type": "markdown",
   "metadata": {},
   "source": [
    "## Determine fgmax points\n",
    "\n",
    "We will choose fgmax points by selecting points that are "
   ]
  },
  {
   "cell_type": "code",
   "execution_count": null,
   "metadata": {
    "collapsed": false
   },
   "outputs": [],
   "source": [
    "topo = topo_1_3sec\n",
    "pts_chosen = marching_front.select_by_flooding(topo.Z, Z1=0, Z2=1e6, max_iters=20) "
   ]
  },
  {
   "cell_type": "code",
   "execution_count": null,
   "metadata": {
    "collapsed": false
   },
   "outputs": [],
   "source": [
    "pts_chosen = marching_front.select_by_flooding(topo.Z, Z1=0, Z2=15., \n",
    "                                               prev_pts_chosen=pts_chosen,\n",
    "                                               max_iters=None) "
   ]
  },
  {
   "cell_type": "code",
   "execution_count": null,
   "metadata": {
    "collapsed": false
   },
   "outputs": [],
   "source": [
    "pts_chosen_shallow = marching_front.select_by_flooding(topo.Z, Z1=0, Z2=-15., max_iters=None) "
   ]
  },
  {
   "cell_type": "code",
   "execution_count": null,
   "metadata": {},
   "outputs": [],
   "source": [
    "pts_chosen_nearshore = logical_and(pts_chosen, pts_chosen_shallow)\n",
    "Znearshore = ma.masked_array(topo.Z, logical_not(pts_chosen_nearshore))"
   ]
  },
  {
   "cell_type": "code",
   "execution_count": null,
   "metadata": {
    "collapsed": false
   },
   "outputs": [],
   "source": [
    "figure(figsize=(12,6))\n",
    "pcolorcells(topo.X, topo.Y, Znearshore, cmap=cmap, norm=norm)\n",
    "colorbar(extend='both')\n",
    "gca().set_aspect(1./cos(48*pi/180.))"
   ]
  },
  {
   "cell_type": "markdown",
   "metadata": {},
   "source": [
    "Write out fgmax points as an array to be read into GeoClaw:"
   ]
  },
  {
   "cell_type": "code",
   "execution_count": null,
   "metadata": {
    "collapsed": false
   },
   "outputs": [],
   "source": [
    "fname_fgmax_mask = 'input_files/fgmax_pts_whidbey1.data'\n",
    "topo_fgmax_mask = topotools.Topography()\n",
    "topo_fgmax_mask._x = topo.x\n",
    "topo_fgmax_mask._y = topo.y     \n",
    "topo_fgmax_mask._Z = where(pts_chosen_nearshore, 1, 0)  # change boolean to 1/0\n",
    "topo_fgmax_mask.generate_2d_coordinates()\n",
    "\n",
    "topo_fgmax_mask.write(fname_fgmax_mask, topo_type=3, Z_format='%1i')\n",
    "print('Created %s' % fname_fgmax_mask)"
   ]
  },
  {
   "cell_type": "markdown",
   "metadata": {},
   "source": [
    "## Create an AMR flagregion covering the fgmax points"
   ]
  },
  {
   "cell_type": "code",
   "execution_count": null,
   "metadata": {
    "collapsed": false
   },
   "outputs": [],
   "source": [
    "rr_fgmax = region_tools.ruledrectangle_covering_selected_points(topo.X, topo.Y, \n",
    "                                                                pts_chosen_nearshore, \n",
    "                                                                ixy='y', method=0,\n",
    "                                                                padding=0, verbose=True)"
   ]
  },
  {
   "cell_type": "code",
   "execution_count": null,
   "metadata": {
    "collapsed": false
   },
   "outputs": [],
   "source": [
    "figure(figsize=(12,6))\n",
    "xv_whidbey1,yv_whidbey1 = rr_fgmax.vertices()\n",
    "pcolorcells(topo.X, topo.Y, Znearshore, cmap=cmap, norm=norm)\n",
    "axis([-122.47, -122.40, 47.925, 47.965])\n",
    "gca().set_aspect(1./cos(48*pi/180.))\n",
    "plot(xv_whidbey1, yv_whidbey1, 'r')\n",
    "title(\"With ixy = 'y'\")"
   ]
  },
  {
   "cell_type": "markdown",
   "metadata": {},
   "source": [
    "Write this ruled rectangle out as a file that can be read into GeoClaw:"
   ]
  },
  {
   "cell_type": "code",
   "execution_count": null,
   "metadata": {},
   "outputs": [],
   "source": [
    "fname_flagregion = 'input_files/RuledRectangle_whidbey1.data'\n",
    "rr_fgmax.write(fname_flagregion)"
   ]
  },
  {
   "cell_type": "markdown",
   "metadata": {},
   "source": [
    "## Create an AMR flagregion covering Admiralty Inlet\n",
    "\n",
    "We also create a ruled rectangle covering Admiralty Inlet, using code from [RuledRectangles.ipynb](RuledRectangles.ipynb):"
   ]
  },
  {
   "cell_type": "code",
   "execution_count": null,
   "metadata": {},
   "outputs": [],
   "source": [
    "slu = \\\n",
    "array([[  47.851, -122.75 , -122.300],\n",
    "       [  47.955, -122.75 , -122.300],\n",
    "       [  48.   , -122.8  , -122.529],\n",
    "       [  48.036, -122.8  , -122.578],\n",
    "       [  48.12 , -122.9  , -122.577],\n",
    "       [  48.187, -122.9  , -122.623],\n",
    "       [  48.191, -122.9  , -122.684],\n",
    "       [  48.221, -122.9  , -122.755]])\n",
    "       \n",
    "rr_admiralty = region_tools.RuledRectangle(slu=slu)\n",
    "rr_admiralty.ixy = 'y'\n",
    "rr_admiralty.method = 1\n",
    "\n",
    "rr_name = 'input_files/RuledRectangle_AdmiraltyInlet'\n",
    "rr_admiralty.write(rr_name + '.data')\n",
    "\n",
    "xv_admiralty, yv_admiralty = rr_admiralty.vertices()"
   ]
  },
  {
   "cell_type": "markdown",
   "metadata": {},
   "source": [
    "Plot these two flagregions:"
   ]
  },
  {
   "cell_type": "code",
   "execution_count": null,
   "metadata": {
    "collapsed": false
   },
   "outputs": [],
   "source": [
    "figure(figsize=(12,8))\n",
    "ax = axes()\n",
    "topo_2sec.plot(axes=ax)\n",
    "plot(xv_whidbey1, yv_whidbey1, 'r')\n",
    "plot(xv_admiralty, yv_admiralty, 'yellow')\n",
    "ylim(47.8, 48.2)"
   ]
  },
  {
   "cell_type": "markdown",
   "metadata": {},
   "source": [
    "## Make `force_dry_init` array\n",
    "\n",
    "This is done in the notebook [ForceDry.ipynb](ForceDry.ipynb) found in the notebooks directory.  Eventually copy this code here."
   ]
  },
  {
   "cell_type": "markdown",
   "metadata": {},
   "source": [
    "## Create dtopo file for earthquake source\n",
    "\n",
    "This is the Seattle Fault \"large\" earthquake denoted by SF-L in our recent modeling work. The fault cuts across Puget Sound between Bainbridge Island and Seattle."
   ]
  },
  {
   "cell_type": "code",
   "execution_count": null,
   "metadata": {},
   "outputs": [],
   "source": [
    "subfault_fname = 'input_files/SFL.csv'\n",
    "dtopo_fname = 'input_files/SFL.tt3'\n",
    "print(\"Using Okada model to create %s \" % dtopo_fname)\n",
    "\n",
    "defaults = {}\n",
    "coordinate_specification = 'top center'\n",
    "input_units = {'slip': 'm', 'depth': 'km', \n",
    "           'length': 'km', 'width': 'km'}\n",
    "rupture_type = 'static'\n",
    "\n",
    "fault = dtopotools.CSVFault()\n",
    "fault.read(subfault_fname, input_units, coordinate_specification,\n",
    "       rupture_type)\n",
    "print(\"There are %s subfaults\" % len(fault.subfaults))\n",
    "print(\"Mw = %5.2f\" % fault.Mw())\n",
    "\n",
    "x = arange(-123, -122.2, 2./3600.)\n",
    "y = arange(47., 48.6, 2./3600.)\n",
    "times = [1.]\n",
    "\n",
    "fault.create_dtopography(x,y,times)\n",
    "dtopo = fault.dtopo\n",
    "dtopo.write(dtopo_fname, dtopo_type=3)\n"
   ]
  },
  {
   "cell_type": "code",
   "execution_count": null,
   "metadata": {
    "collapsed": false
   },
   "outputs": [],
   "source": [
    "from importlib import reload\n",
    "reload(dtopotools)"
   ]
  },
  {
   "cell_type": "code",
   "execution_count": null,
   "metadata": {
    "collapsed": false
   },
   "outputs": [],
   "source": [
    "figure(figsize=(12,8))\n",
    "ax = axes()\n",
    "contourf(topo_2sec.X, topo_2sec.Y, topo_2sec.Z, [0,1000],colors=[[.4,1,.4]])\n",
    "dtopo.plot_dZ_colors(2, axes=ax, dZ_interval=0.5)\n",
    "ax.set_ylim(47.2,48.2)\n",
    "ax.set_aspect(1./cos(48*pi/180.))"
   ]
  },
  {
   "cell_type": "code",
   "execution_count": null,
   "metadata": {},
   "outputs": [],
   "source": []
  }
 ],
 "metadata": {
  "kernelspec": {
   "display_name": "Python 3",
   "language": "python",
   "name": "python3"
  },
  "language_info": {
   "codemirror_mode": {
    "name": "ipython",
    "version": 3
   },
   "file_extension": ".py",
   "mimetype": "text/x-python",
   "name": "python",
   "nbconvert_exporter": "python",
   "pygments_lexer": "ipython3",
   "version": "3.6.7"
  }
 },
 "nbformat": 4,
 "nbformat_minor": 2
}
